{
 "cells": [
  {
   "cell_type": "markdown",
   "metadata": {
    "id": "LTlmjXExP75I"
   },
   "source": [
    "# Linear Classification"
   ]
  },
  {
   "cell_type": "markdown",
   "metadata": {
    "id": "KGWDDNDyP75O"
   },
   "source": [
    "# SVM, LR , calibration"
   ]
  },
  {
   "cell_type": "code",
   "execution_count": 1,
   "metadata": {
    "id": "KyqoX1BNP75N"
   },
   "outputs": [],
   "source": [
    "import numpy as np\n",
    "import pandas as pd\n",
    "import seaborn as sns\n",
    "import matplotlib.pyplot as plt\n",
    " \n",
    "import warnings\n",
    "warnings.filterwarnings('ignore')\n",
    "\n",
    "%matplotlib inline\n",
    "\n",
    "pd.set_option('display.max_rows', 100)\n",
    "pd.set_option('display.max_columns', 100)"
   ]
  },
  {
   "cell_type": "markdown",
   "metadata": {
    "id": "xvhLtt4OP75Q"
   },
   "source": [
    "#### __Задание 1.1  Сравнение методов__ (0.5 балла)\n",
    "\n"
   ]
  },
  {
   "cell_type": "markdown",
   "metadata": {
    "id": "LZw2aOq9P75O"
   },
   "source": [
    "Сгенерируем синтетические данные."
   ]
  },
  {
   "cell_type": "code",
   "execution_count": 238,
   "metadata": {
    "id": "mqkczFrQP75P"
   },
   "outputs": [],
   "source": [
    "from sklearn.datasets import make_classification\n",
    "from sklearn.model_selection import train_test_split\n",
    "\n",
    "\n",
    "from sklearn.svm import SVC\n",
    "from sklearn.model_selection import GridSearchCV\n",
    "from sklearn.calibration import CalibratedClassifierCV, calibration_curve\n",
    "from sklearn.compose import ColumnTransformer\n",
    "\n",
    "# фиксируем random_state для воспроизводимости результатов\n",
    "X, y = make_classification(\n",
    "    n_samples=10000, n_features=10, n_informative=5, n_redundant=5, random_state=42)\n",
    "\n",
    "X_train, X_test, y_train, y_test = train_test_split(X, y, test_size=0.3, random_state=42)"
   ]
  },
  {
   "cell_type": "markdown",
   "metadata": {
    "id": "BdPx-lQbtaRe"
   },
   "source": [
    "__Случайный классификатор__\n",
    "\n",
    "Для начала зададим самую простую модель, которая на каждом объекте выдаёт случайный ответ. По тестовой выборке вычислим AUC-ROC, AUC-PR."
   ]
  },
  {
   "cell_type": "code",
   "execution_count": 239,
   "metadata": {
    "colab": {
     "base_uri": "https://localhost:8080/"
    },
    "id": "5gcSglAOjVn-",
    "outputId": "ab22188b-7c7f-4718-ebdd-82959d1a5366"
   },
   "outputs": [
    {
     "data": {
      "text/plain": [
       "array([0.5, 0.5, 0.5, ..., 0.5, 0.5, 0.5])"
      ]
     },
     "execution_count": 239,
     "metadata": {},
     "output_type": "execute_result"
    }
   ],
   "source": [
    "from sklearn.dummy import DummyClassifier\n",
    "random_classifier = DummyClassifier(strategy='uniform', random_state=42).fit(X_train, y_train)\n",
    "y_random = random_classifier.predict_proba(X_test)[:,1]\n",
    "y_random"
   ]
  },
  {
   "cell_type": "markdown",
   "metadata": {
    "id": "bUhBXPre7jNi"
   },
   "source": [
    "**Вопрос:** решаем задачу бинарной классификации, но y\\_random содержит какие-то дробные числа, а не 0/1. Почему?\n",
    "\n",
    "**Ответ:** Уже в коде можно заметить ключевое слово - `predict_proba`. То есть вместо предсказание классов мы предсказываем вероятности принадлежности к классу. Это нужно для калибровки вероятностей - после того, как предсказали вероятности, мы выбираем такой порог, чтобы верояности наиболее подпадали под классы."
   ]
  },
  {
   "cell_type": "markdown",
   "metadata": {
    "id": "LnmZFwEYDVqx"
   },
   "source": [
    "*Ниже приведен **пример** работы* со встроенными функциями `sklearn` для отрисовки ROC и PR кривых, сохранения метрик. Пайплайн можно изменять как вам удобно."
   ]
  },
  {
   "cell_type": "code",
   "execution_count": 240,
   "metadata": {
    "id": "gNJLhNj7DkLx"
   },
   "outputs": [],
   "source": [
    "from sklearn.metrics import auc\n",
    "from sklearn.metrics import average_precision_score\n",
    "from sklearn.metrics import precision_recall_curve\n",
    "from sklearn.metrics import PrecisionRecallDisplay\n",
    "\n",
    "from sklearn.metrics import roc_auc_score\n",
    "from sklearn.metrics import RocCurveDisplay\n",
    "from sklearn.linear_model import LogisticRegression\n",
    "from sklearn.metrics import make_scorer\n",
    "#Для разделяющей прямой\n",
    "from mlxtend.plotting import plot_decision_regions\n",
    "\n",
    "\n",
    "from sklearn.svm import SVC\n",
    "from sklearn.svm import LinearSVC\n",
    "from sklearn.preprocessing import OneHotEncoder"
   ]
  },
  {
   "cell_type": "code",
   "execution_count": 241,
   "metadata": {
    "colab": {
     "base_uri": "https://localhost:8080/",
     "height": 508
    },
    "id": "-WHELzN6_fsQ",
    "outputId": "3802dc04-1755-4865-f89a-1b2257210465"
   },
   "outputs": [
    {
     "name": "stdout",
     "output_type": "stream",
     "text": [
      "Random Classifier metrics\n",
      "AUC-PR: 0.75283\n",
      "AUC-ROC: 0.50000\n"
     ]
    },
    {
     "data": {
      "image/png": "[encoded data removed]",
      "text/plain": [
       "<Figure size 792x360 with 2 Axes>"
      ]
     },
     "metadata": {
      "needs_background": "light"
     },
     "output_type": "display_data"
    }
   ],
   "source": [
    "def depict_pr_roc(y_true, y_pred, classifier_name='Some Classifier', ax=None):\n",
    "    if ax is None:\n",
    "        fig, ax = plt.subplots(1, 2, figsize=(11, 5))\n",
    "\n",
    "    print(classifier_name, 'metrics')\n",
    "    PrecisionRecallDisplay.from_predictions(y_true, y_pred, ax=ax[0], name=classifier_name)\n",
    "    precision, recall, _ = precision_recall_curve(y_true, y_pred)\n",
    "    print('AUC-PR: %.5f' % auc(recall, precision))\n",
    "    ax[0].set_title(\"PRC\")\n",
    "    ax[0].set_ylim(0, 1.1)\n",
    "\n",
    "    RocCurveDisplay.from_predictions(y_true, y_pred, ax=ax[1], name=classifier_name)\n",
    "    print('AUC-ROC: %.5f' % roc_auc_score(y_true, y_pred))\n",
    "    ax[1].set_title(\"ROC\")\n",
    "    ax[1].set_ylim(0, 1.1)\n",
    "\n",
    "    plt.tight_layout()\n",
    "    plt.legend()\n",
    "\n",
    "\n",
    "depict_pr_roc(y_test, y_random, 'Random Classifier')"
   ]
  },
  {
   "cell_type": "code",
   "execution_count": 242,
   "metadata": {
    "colab": {
     "base_uri": "https://localhost:8080/",
     "height": 80
    },
    "id": "pSugCdAAEF2z",
    "outputId": "57b4d60f-1bc2-4137-ebf7-fd497eebd31f"
   },
   "outputs": [
    {
     "data": {
      "text/html": [
       "<div>\n",
       "<style scoped>\n",
       "    .dataframe tbody tr th:only-of-type {\n",
       "        vertical-align: middle;\n",
       "    }\n",
       "\n",
       "    .dataframe tbody tr th {\n",
       "        vertical-align: top;\n",
       "    }\n",
       "\n",
       "    .dataframe thead th {\n",
       "        text-align: right;\n",
       "    }\n",
       "</style>\n",
       "<table border=\"1\" class=\"dataframe\">\n",
       "  <thead>\n",
       "    <tr style=\"text-align: right;\">\n",
       "      <th></th>\n",
       "      <th>AUC_PR</th>\n",
       "      <th>AUC_ROC</th>\n",
       "      <th>reg_const</th>\n",
       "    </tr>\n",
       "  </thead>\n",
       "  <tbody>\n",
       "    <tr>\n",
       "      <th>Random Classifier</th>\n",
       "      <td>0.752833</td>\n",
       "      <td>0.5</td>\n",
       "      <td>0.0</td>\n",
       "    </tr>\n",
       "  </tbody>\n",
       "</table>\n",
       "</div>"
      ],
      "text/plain": [
       "                     AUC_PR  AUC_ROC  reg_const\n",
       "Random Classifier  0.752833      0.5        0.0"
      ]
     },
     "execution_count": 242,
     "metadata": {},
     "output_type": "execute_result"
    }
   ],
   "source": [
    "# dataframe для сравнения\n",
    "# методов классификации по метрикам\n",
    "df_metrics = pd.DataFrame(columns=['AUC_PR', 'AUC_ROC', 'reg_const'])\n",
    "precision, recall, _ = precision_recall_curve(y_test, y_random)\n",
    "  # добавление очередной строки с характеристиками метода\n",
    "df_metrics.loc['Random Classifier'] = [\n",
    "      auc(recall, precision),\n",
    "      roc_auc_score(y_test, y_random),\n",
    "      0\n",
    "]\n",
    "\n",
    "  # по аналогии результаты следующих экспериментов можно будет собрать в табличку\n",
    "df_metrics"
   ]
  },
  {
   "cell_type": "markdown",
   "metadata": {
    "id": "9IwDobmQtW2P"
   },
   "source": [
    "__Support Vector Machine (Linear Kernel)__\n",
    "\n",
    "Обучите метод опорных векторов.\n",
    "\n",
    "На занятиях мы проходили линейный вариант без ядрового перехода, что соответствует линейному ядру (`LinearSVC` или же `SVC(kernel='linear')` в `sklearn.svm`).\n",
    "\n",
    "Подберите параметр регуляризации `C` с точки зрения AUC-PR (можете воспользоваться кросс-валидацией или отделить валидационную выборку от обучающей).\n"
   ]
  },
  {
   "cell_type": "code",
   "execution_count": 243,
   "metadata": {},
   "outputs": [],
   "source": [
    "def AUC_PR(y, y_pred):\n",
    "    precision, recall, _ = precision_recall_curve(y, y_pred)\n",
    "    return auc(recall, precision)\n",
    "    "
   ]
  },
  {
   "cell_type": "code",
   "execution_count": 244,
   "metadata": {
    "scrolled": true
   },
   "outputs": [],
   "source": [
    "auc_scorer = make_scorer(AUC_PR)\n",
    "range_C = np.linspace(1e-4, 1,20)"
   ]
  },
  {
   "cell_type": "code",
   "execution_count": 245,
   "metadata": {},
   "outputs": [
    {
     "name": "stdout",
     "output_type": "stream",
     "text": [
      "Лучший параметр регуляризации C равен 0.05273\n",
      "Wall time: 2min 21s\n"
     ]
    }
   ],
   "source": [
    "%%time\n",
    "searcher_svm = GridSearchCV(LinearSVC(max_iter=100000, random_state=42), param_grid=[{\"C\": range_C}], scoring=auc_scorer, cv=10)\n",
    "searcher_svm.fit(X_train, y_train)\n",
    "svm_best_C = searcher_svm.best_params_[\"C\"]\n",
    "print(\"Лучший параметр регуляризации C равен {}\".format(round(svm_best_C, 5)))"
   ]
  },
  {
   "cell_type": "markdown",
   "metadata": {
    "id": "fapa63xlP75R"
   },
   "source": [
    "  На тестовой части:\n",
    "  - постройте ROC и PR кривые,\n",
    "  - посчитайте AUC-ROC, AUC-PR с точностью до 5 знаков"
   ]
  },
  {
   "cell_type": "code",
   "execution_count": 246,
   "metadata": {
    "id": "xTvNT5uRP75S"
   },
   "outputs": [],
   "source": [
    "svc = LinearSVC(max_iter=100000, random_state=42, C=svm_best_C).fit(X_train, y_train)\n",
    "pred_svm = svc.decision_function(X_test)"
   ]
  },
  {
   "cell_type": "code",
   "execution_count": 247,
   "metadata": {
    "scrolled": true
   },
   "outputs": [
    {
     "data": {
      "image/png": "[encoded data removed]",
      "text/plain": [
       "<Figure size 1080x432 with 2 Axes>"
      ]
     },
     "metadata": {
      "needs_background": "light"
     },
     "output_type": "display_data"
    }
   ],
   "source": [
    "fig, ax = plt.subplots(1, 2, figsize=(15,6 ))\n",
    "\n",
    "PrecisionRecallDisplay.from_predictions(y_test, pred_svm, ax = ax[0]);\n",
    "ax[0].set_title(\"PRC\");\n",
    "RocCurveDisplay.from_predictions(y_test, pred_svm, ax=ax[1]);\n",
    "ax[1].set_title(\"ROC\");"
   ]
  },
  {
   "cell_type": "code",
   "execution_count": 248,
   "metadata": {
    "scrolled": true
   },
   "outputs": [
    {
     "name": "stdout",
     "output_type": "stream",
     "text": [
      "AUC-PR: 0.75283\n"
     ]
    }
   ],
   "source": [
    "print('AUC-PR: %.5f' % auc(recall, precision))"
   ]
  },
  {
   "cell_type": "markdown",
   "metadata": {
    "id": "tEoGp5EDtIzW"
   },
   "source": [
    "Сравните AUC-ROC и AUC-PR для вашей модели с этими же метриками для случайного классификатора."
   ]
  },
  {
   "cell_type": "code",
   "execution_count": 249,
   "metadata": {},
   "outputs": [],
   "source": [
    "df_metrics.loc['SVM Classifier'] = [\n",
    "    AUC_PR(y_test, pred_svm),\n",
    "    roc_auc_score(y_test, pred_svm),\n",
    "    svm_best_C\n",
    "]"
   ]
  },
  {
   "cell_type": "code",
   "execution_count": 250,
   "metadata": {
    "id": "wnRTMhsm6Hvv",
    "scrolled": false
   },
   "outputs": [
    {
     "data": {
      "text/html": [
       "<div>\n",
       "<style scoped>\n",
       "    .dataframe tbody tr th:only-of-type {\n",
       "        vertical-align: middle;\n",
       "    }\n",
       "\n",
       "    .dataframe tbody tr th {\n",
       "        vertical-align: top;\n",
       "    }\n",
       "\n",
       "    .dataframe thead th {\n",
       "        text-align: right;\n",
       "    }\n",
       "</style>\n",
       "<table border=\"1\" class=\"dataframe\">\n",
       "  <thead>\n",
       "    <tr style=\"text-align: right;\">\n",
       "      <th></th>\n",
       "      <th>AUC_PR</th>\n",
       "      <th>AUC_ROC</th>\n",
       "      <th>reg_const</th>\n",
       "    </tr>\n",
       "  </thead>\n",
       "  <tbody>\n",
       "    <tr>\n",
       "      <th>Random Classifier</th>\n",
       "      <td>0.752833</td>\n",
       "      <td>0.500000</td>\n",
       "      <td>0.000000</td>\n",
       "    </tr>\n",
       "    <tr>\n",
       "      <th>SVM Classifier</th>\n",
       "      <td>0.829681</td>\n",
       "      <td>0.847647</td>\n",
       "      <td>0.052726</td>\n",
       "    </tr>\n",
       "  </tbody>\n",
       "</table>\n",
       "</div>"
      ],
      "text/plain": [
       "                     AUC_PR   AUC_ROC  reg_const\n",
       "Random Classifier  0.752833  0.500000   0.000000\n",
       "SVM Classifier     0.829681  0.847647   0.052726"
      ]
     },
     "execution_count": 250,
     "metadata": {},
     "output_type": "execute_result"
    }
   ],
   "source": [
    "df_metrics"
   ]
  },
  {
   "cell_type": "markdown",
   "metadata": {},
   "source": [
    "Значения выросли значительно, особенно для AUC_ROC (на 34 у.е.), AUC_PR на 7 у.е."
   ]
  },
  {
   "cell_type": "markdown",
   "metadata": {
    "id": "Ln5VaZE_P75S"
   },
   "source": [
    "__Logistic Regression__\n",
    "\n",
    "\n",
    "Аналогичное задание для логистической регрессии с L2 регуляризатором:\n",
    "\n",
    "\n",
    "*   подберите гиперпараметр C, используя метрику AUC-PR\n",
    "*   нарисуйте ROC, PR кривые для тестовой части\n",
    "*   выведите метрики для тестовых данных и сравните их с результатами случайного классификатора\n",
    "\n"
   ]
  },
  {
   "cell_type": "code",
   "execution_count": 251,
   "metadata": {
    "id": "r1TlamoBP75S",
    "scrolled": true
   },
   "outputs": [
    {
     "name": "stdout",
     "output_type": "stream",
     "text": [
      "Лучший параметр регуляризации C равен 0.05273\n"
     ]
    }
   ],
   "source": [
    "searcher_lr = GridSearchCV(LogisticRegression(max_iter=100000, random_state=42), param_grid=[{\"C\": range_C}], scoring=auc_scorer , cv=10)\n",
    "\n",
    "searcher_lr.fit(X_train, y_train)\n",
    "\n",
    "logreg_best_C = searcher_lr.best_params_[\"C\"]\n",
    "print(\"Лучший параметр регуляризации C равен {}\".format(round(logreg_best_C, 5)))\n"
   ]
  },
  {
   "cell_type": "code",
   "execution_count": 253,
   "metadata": {},
   "outputs": [],
   "source": [
    "logreg = LogisticRegression(max_iter=100000, random_state=42, C=logreg_best_C).fit(X_train, y_train)\n",
    "y_pred_logreg = logreg.decision_function(X_test)"
   ]
  },
  {
   "cell_type": "markdown",
   "metadata": {
    "id": "Gnj5PG1Rm5qX"
   },
   "source": [
    "Нарисуйте ROC, PR кривые для тестовой части для всех 3 классификаторов на одном графике"
   ]
  },
  {
   "cell_type": "code",
   "execution_count": 254,
   "metadata": {
    "id": "X3BaXTRBnAwK",
    "scrolled": true
   },
   "outputs": [
    {
     "name": "stdout",
     "output_type": "stream",
     "text": [
      "AUC-PR : 0.82928\n",
      "AUC-ROC: 0.84783\n"
     ]
    },
    {
     "data": {
      "image/png": "[encoded data removed]",
      "text/plain": [
       "<Figure size 720x288 with 2 Axes>"
      ]
     },
     "metadata": {
      "needs_background": "light"
     },
     "output_type": "display_data"
    }
   ],
   "source": [
    "fig, ax = plt.subplots(1, 2, figsize=(10, 4))\n",
    "\n",
    "PrecisionRecallDisplay.from_predictions(y_test, y_pred_logreg, ax=ax[0])\n",
    "precision, recall, _ = precision_recall_curve(y_test, y_pred_logreg)\n",
    "\n",
    "precision, recall, _ = precision_recall_curve(y_test, y_pred_logreg)\n",
    "print(\"AUC-PR : {}\".format(round( auc(recall, precision), 5)) )\n",
    "ax[0].set_title(\"PRC\")\n",
    "\n",
    "\n",
    "RocCurveDisplay.from_predictions(y_test, y_pred_logreg, ax=ax[1])\n",
    "print(\"AUC-ROC: {}\".format( round( roc_auc_score(y_test, y_pred_logreg), 5) ) )\n",
    "ax[1].set_title(\"ROC\");"
   ]
  },
  {
   "cell_type": "code",
   "execution_count": 255,
   "metadata": {
    "scrolled": true
   },
   "outputs": [
    {
     "data": {
      "text/html": [
       "<div>\n",
       "<style scoped>\n",
       "    .dataframe tbody tr th:only-of-type {\n",
       "        vertical-align: middle;\n",
       "    }\n",
       "\n",
       "    .dataframe tbody tr th {\n",
       "        vertical-align: top;\n",
       "    }\n",
       "\n",
       "    .dataframe thead th {\n",
       "        text-align: right;\n",
       "    }\n",
       "</style>\n",
       "<table border=\"1\" class=\"dataframe\">\n",
       "  <thead>\n",
       "    <tr style=\"text-align: right;\">\n",
       "      <th></th>\n",
       "      <th>AUC_PR</th>\n",
       "      <th>AUC_ROC</th>\n",
       "      <th>reg_const</th>\n",
       "    </tr>\n",
       "  </thead>\n",
       "  <tbody>\n",
       "    <tr>\n",
       "      <th>Random Classifier</th>\n",
       "      <td>0.752833</td>\n",
       "      <td>0.500000</td>\n",
       "      <td>0.000000</td>\n",
       "    </tr>\n",
       "    <tr>\n",
       "      <th>SVM Classifier</th>\n",
       "      <td>0.829681</td>\n",
       "      <td>0.847647</td>\n",
       "      <td>0.052726</td>\n",
       "    </tr>\n",
       "    <tr>\n",
       "      <th>LR Classifier</th>\n",
       "      <td>0.829282</td>\n",
       "      <td>0.847826</td>\n",
       "      <td>0.052726</td>\n",
       "    </tr>\n",
       "  </tbody>\n",
       "</table>\n",
       "</div>"
      ],
      "text/plain": [
       "                     AUC_PR   AUC_ROC  reg_const\n",
       "Random Classifier  0.752833  0.500000   0.000000\n",
       "SVM Classifier     0.829681  0.847647   0.052726\n",
       "LR Classifier      0.829282  0.847826   0.052726"
      ]
     },
     "execution_count": 255,
     "metadata": {},
     "output_type": "execute_result"
    }
   ],
   "source": [
    "df_metrics.loc['LR Classifier'] = [\n",
    "    AUC_PR(y_test, y_pred_logreg),\n",
    "    roc_auc_score(y_test, y_pred_logreg),\n",
    "    logreg_best_C\n",
    "]\n",
    "df_metrics"
   ]
  },
  {
   "cell_type": "code",
   "execution_count": 256,
   "metadata": {
    "scrolled": true
   },
   "outputs": [
    {
     "data": {
      "text/html": [
       "<div>\n",
       "<style scoped>\n",
       "    .dataframe tbody tr th:only-of-type {\n",
       "        vertical-align: middle;\n",
       "    }\n",
       "\n",
       "    .dataframe tbody tr th {\n",
       "        vertical-align: top;\n",
       "    }\n",
       "\n",
       "    .dataframe thead th {\n",
       "        text-align: right;\n",
       "    }\n",
       "</style>\n",
       "<table border=\"1\" class=\"dataframe\">\n",
       "  <thead>\n",
       "    <tr style=\"text-align: right;\">\n",
       "      <th></th>\n",
       "      <th>AUC_PR</th>\n",
       "      <th>AUC_ROC</th>\n",
       "      <th>reg_const</th>\n",
       "    </tr>\n",
       "  </thead>\n",
       "  <tbody>\n",
       "    <tr>\n",
       "      <th>Random Classifier</th>\n",
       "      <td>0.752833</td>\n",
       "      <td>0.500000</td>\n",
       "      <td>0.000000</td>\n",
       "    </tr>\n",
       "    <tr>\n",
       "      <th>LR Classifier</th>\n",
       "      <td>0.829282</td>\n",
       "      <td>0.847826</td>\n",
       "      <td>0.052726</td>\n",
       "    </tr>\n",
       "    <tr>\n",
       "      <th>SVM Classifier</th>\n",
       "      <td>0.829681</td>\n",
       "      <td>0.847647</td>\n",
       "      <td>0.052726</td>\n",
       "    </tr>\n",
       "  </tbody>\n",
       "</table>\n",
       "</div>"
      ],
      "text/plain": [
       "                     AUC_PR   AUC_ROC  reg_const\n",
       "Random Classifier  0.752833  0.500000   0.000000\n",
       "LR Classifier      0.829282  0.847826   0.052726\n",
       "SVM Classifier     0.829681  0.847647   0.052726"
      ]
     },
     "execution_count": 256,
     "metadata": {},
     "output_type": "execute_result"
    }
   ],
   "source": [
    "df_metrics.sort_values('AUC_PR')"
   ]
  },
  {
   "cell_type": "code",
   "execution_count": 257,
   "metadata": {},
   "outputs": [
    {
     "data": {
      "text/html": [
       "<div>\n",
       "<style scoped>\n",
       "    .dataframe tbody tr th:only-of-type {\n",
       "        vertical-align: middle;\n",
       "    }\n",
       "\n",
       "    .dataframe tbody tr th {\n",
       "        vertical-align: top;\n",
       "    }\n",
       "\n",
       "    .dataframe thead th {\n",
       "        text-align: right;\n",
       "    }\n",
       "</style>\n",
       "<table border=\"1\" class=\"dataframe\">\n",
       "  <thead>\n",
       "    <tr style=\"text-align: right;\">\n",
       "      <th></th>\n",
       "      <th>AUC_PR</th>\n",
       "      <th>AUC_ROC</th>\n",
       "      <th>reg_const</th>\n",
       "    </tr>\n",
       "  </thead>\n",
       "  <tbody>\n",
       "    <tr>\n",
       "      <th>Random Classifier</th>\n",
       "      <td>0.752833</td>\n",
       "      <td>0.500000</td>\n",
       "      <td>0.000000</td>\n",
       "    </tr>\n",
       "    <tr>\n",
       "      <th>SVM Classifier</th>\n",
       "      <td>0.829681</td>\n",
       "      <td>0.847647</td>\n",
       "      <td>0.052726</td>\n",
       "    </tr>\n",
       "    <tr>\n",
       "      <th>LR Classifier</th>\n",
       "      <td>0.829282</td>\n",
       "      <td>0.847826</td>\n",
       "      <td>0.052726</td>\n",
       "    </tr>\n",
       "  </tbody>\n",
       "</table>\n",
       "</div>"
      ],
      "text/plain": [
       "                     AUC_PR   AUC_ROC  reg_const\n",
       "Random Classifier  0.752833  0.500000   0.000000\n",
       "SVM Classifier     0.829681  0.847647   0.052726\n",
       "LR Classifier      0.829282  0.847826   0.052726"
      ]
     },
     "execution_count": 257,
     "metadata": {},
     "output_type": "execute_result"
    }
   ],
   "source": [
    "df_metrics.sort_values('AUC_ROC')"
   ]
  },
  {
   "cell_type": "markdown",
   "metadata": {
    "id": "khlorKXtr1Sy"
   },
   "source": [
    "**Вопрос:** Сравните результаты LR и SVM с точки зрения всех вычисленных критериев качества, объясните различия (если они есть).\n",
    "\n"
   ]
  },
  {
   "cell_type": "markdown",
   "metadata": {
    "id": "Un_w7BMZIAf2"
   },
   "source": [
    "**Ответ:** Различия между методом опорных векторов и логистической регрессией не значительны (заметны примерно после 4 знака после запятой). `AUC PR` больше чуть больше у логистической регресси , `AUC ROC` больше у опорных векторов. В то время как параметр регуляризации совпал. "
   ]
  },
  {
   "cell_type": "markdown",
   "metadata": {
    "id": "RvWzOe4wP75T"
   },
   "source": [
    "#### __Задание 1.2. Визуализация в подходах SVM, LR__ (0.5 балла)\n",
    "\n"
   ]
  },
  {
   "cell_type": "markdown",
   "metadata": {
    "id": "kWS1NfYwBbQ_"
   },
   "source": [
    "В названии метода опорных векторов присутствуют некоторые \"опорные векторы\". По сути, это объекты из обучающей выборки, которые задали положение разделяющей гиперплоскости.\n",
    "\n",
    "* Сгенерируйте синтетические данные с помощью `make_classification` __с 2 признаками__, обучите на нём метод опорных векторов. В этот раз воспользуйтесь `SVC(kernel='linear')`, так как только в нём есть информация об опорных векторах, а в `LinearSVC` нет. Не забудьте зафиксировать seed для воспроизводимости\n",
    "\n",
    "* Визуализируйте разделяющую прямую, все объекты и выделите опорные векторы (атрибут `support_vectors_`)."
   ]
  },
  {
   "cell_type": "code",
   "execution_count": 258,
   "metadata": {
    "id": "qIS-aGxi-Nr0"
   },
   "outputs": [],
   "source": [
    "X, y = make_classification(\n",
    "    n_samples=1000, n_features=2, n_informative=2, n_redundant=0, random_state=42)\n",
    "\n",
    "X_train, X_test, y_train, y_test = train_test_split(X, y, test_size=0.3, random_state=42)"
   ]
  },
  {
   "cell_type": "markdown",
   "metadata": {},
   "source": [
    "Нарисуем разделяющую прямую [идея отсюда](https://rasbt.github.io/mlxtend/user_guide/plotting/plot_decision_regions/). "
   ]
  },
  {
   "cell_type": "code",
   "execution_count": 259,
   "metadata": {
    "scrolled": true
   },
   "outputs": [
    {
     "data": {
      "image/png": "[encoded data removed]",
      "text/plain": [
       "<Figure size 1008x432 with 2 Axes>"
      ]
     },
     "metadata": {
      "needs_background": "light"
     },
     "output_type": "display_data"
    }
   ],
   "source": [
    "svc = SVC(kernel='linear', C=svm_best_C, random_state=42).fit(X_train, y_train)\n",
    "\n",
    "fig, axs = plt.subplots(ncols=2, figsize=(14, 6))\n",
    "plot_decision_regions(X_test, y_test, svc, ax=axs[0])\n",
    "\n",
    "axs[0].set_title(\"Тестовые данные\");\n",
    "\n",
    "plot_decision_regions(X, y, svc, ax=axs[1])\n",
    "\n",
    "axs[1].set_title(\"Все данные\");"
   ]
  },
  {
   "cell_type": "code",
   "execution_count": 23,
   "metadata": {},
   "outputs": [],
   "source": [
    "logreg = LogisticRegression(max_iter=100000, random_state=42, C= logreg_best_C).fit(X_train, y_train)\n",
    "\n"
   ]
  },
  {
   "cell_type": "markdown",
   "metadata": {
    "id": "gfpVN70PP75U"
   },
   "source": [
    "В отличие от метода опорных векторов, логистическая регрессия не пытается построить разделяющую гиперплоскость с максимальным отступом, а приближает в каждой точке пространства объектов вероятность положительных ответов $p(y=+1|x)$. Попробуйте нарисовать это распределение на плоскости, не забудьте отметить на ней все объекты."
   ]
  },
  {
   "cell_type": "markdown",
   "metadata": {
    "id": "AQ-Um7-6JnAp"
   },
   "source": [
    "**Вопрос:** Как на картинке визуализирована область, где модель не уверена ($p(y=+1|x) = 0.5$)? Как это обосновать теоритечески?\n",
    "\n"
   ]
  },
  {
   "cell_type": "markdown",
   "metadata": {
    "id": "SAAF0HiaIh9Z"
   },
   "source": [
    "**Ответ:** В виде белой зоны (я бы даже сказал линии). Она находится очень близко к разделяющей прямой. То есть эти значения почти являются так называеми 0 (где есть классы +1 и -1), где модели сложно решить к какому классу их причислить (малая уверенность т к малое расстояние от разделяющей прямой)."
   ]
  },
  {
   "cell_type": "markdown",
   "metadata": {
    "id": "4VbJR0e3P75U"
   },
   "source": [
    "#### __Задание 2. Калибровка вероятностей__ (1 балл)\n",
    "\n"
   ]
  },
  {
   "cell_type": "markdown",
   "metadata": {
    "id": "I8taLYSgBd9u"
   },
   "source": [
    "Перейдём к оценке качества выдаваемых алгоритмами вероятностей. Начнём с калибровочных кривых.\n",
    "\n",
    "Допустим, алгоритм возвращает некоторые числа от нуля до единицы. Хорошо ли они оценивают вероятность?\n",
    "\n",
    "Хорошо откалиброванный  классификатор должен выдавать значения так, чтобы среди образцов, для которых он дал значение, близкое к $\\alpha$, примерно $\\alpha * 100 \\%$ фактически принадлежали к положительному классу. (Например, если классификатор выдает 0.3 для некоторых, то 30% из них должны принадлежать классу 1)"
   ]
  },
  {
   "cell_type": "markdown",
   "metadata": {
    "id": "TRBGtMArIxMc"
   },
   "source": [
    "Для построения калибровочной криовой используем следующий алгоритм:\n",
    "\n",
    "Разобьем отрезок $[0, 1]$ на несколько маленьких отрезков одинаковой длины.\n",
    "\n",
    "Рассмотрим $i$-й отрезок с границами $[a_i, b_i]$ и предсказания $p_1, p_2, \\dots, p_k$, которые попали в него. Пусть им соответствуют истинные ответы $y_1, y_2, \\dots, y_k$. Если алгоритм выдает корректные вероятности, то среди этих истинных ответов должно быть примерно $(a_i + b_i) / 2$ единиц. Иными словами, если нарисовать кривую, у которой по оси X отложены центры отрезков, а по оси Y — доли единичных ответов этих в отрезках, то она должна оказаться диагональной.\n",
    "\n",
    "Ниже приведена функция, которая должна рисовать такие кривые. В ней допущено две ошибки — найдите и исправьте их."
   ]
  },
  {
   "cell_type": "code",
   "execution_count": 260,
   "metadata": {},
   "outputs": [],
   "source": [
    "def plot_calibration_curve(y_test, preds):\n",
    "    bin_middle_points = []\n",
    "    bin_real_ratios = []\n",
    "    n_bins = 10\n",
    "    for i in range(n_bins):\n",
    "        l = 1.0 / n_bins * i\n",
    "        r = 1.0 / n_bins * (i + 1)\n",
    "        # error (\"+\" not \"-\")\n",
    "        bin_middle_points.append((l + r) / 2) \n",
    "        bin_real_ratios.append(np.mean(y_test[(preds >= l) & (preds < r)] == 1)) \n",
    "    plt.figure(figsize=(6,6))\n",
    "    plt.plot(bin_middle_points, bin_real_ratios)\n",
    "    plt.ylim([-0.05, 1.05])\n",
    "    plt.grid()"
   ]
  },
  {
   "cell_type": "markdown",
   "metadata": {
    "id": "R13YCkxMO_R4"
   },
   "source": [
    "Сгенерируйте синтетические данные аналогично использованным в самом первом задании. Постройте калибровочные кривые на тестовой части для логистической регрессии и метода опорных векторов (не забудьте перевести его предсказания в $[0;1]$).\n",
    "\n",
    "Отрисуйте калибровочную кривую идеально откалиброванной модели (диагональ)"
   ]
  },
  {
   "cell_type": "code",
   "execution_count": 261,
   "metadata": {
    "id": "Jk6pz90lQYST"
   },
   "outputs": [],
   "source": [
    "X, y = make_classification(\n",
    "    n_samples=10000, n_features=10, n_informative=5, n_redundant=5, random_state=42)\n",
    "\n",
    "X_train, X_test, y_train, y_test = train_test_split(X, y, test_size=0.3, random_state=42)"
   ]
  },
  {
   "cell_type": "code",
   "execution_count": 262,
   "metadata": {},
   "outputs": [
    {
     "data": {
      "image/png": "[encoded data removed]",
      "text/plain": [
       "<Figure size 432x432 with 1 Axes>"
      ]
     },
     "metadata": {
      "needs_background": "light"
     },
     "output_type": "display_data"
    }
   ],
   "source": [
    "svc = SVC(kernel='linear', C=svm_best_C, random_state=42).fit(X_train, y_train)\n",
    "svc_pred = svc.decision_function(X_test)\n",
    "\n",
    "svc_pred = (svc_pred - svc_pred.min()) / (svc_pred.max() - svc_pred.min())\n",
    "\n",
    "plot_calibration_curve(y_test, svc_pred)\n",
    "plt.title('Калибровочная прямая SVM');"
   ]
  },
  {
   "cell_type": "code",
   "execution_count": 263,
   "metadata": {},
   "outputs": [
    {
     "data": {
      "image/png": "[encoded data removed]",
      "text/plain": [
       "<Figure size 432x432 with 1 Axes>"
      ]
     },
     "metadata": {
      "needs_background": "light"
     },
     "output_type": "display_data"
    }
   ],
   "source": [
    "logreg = LogisticRegression(max_iter=100000, random_state=42, C=logreg_best_C).fit(X_train, y_train)\n",
    "\n",
    "logreg_pred = logreg.predict_proba(X_test)[:, 1]\n",
    "\n",
    "plot_calibration_curve(y_test, logreg_pred)\n",
    "plt.title('Калибровочная прямая для Логистической регрессии');"
   ]
  },
  {
   "cell_type": "markdown",
   "metadata": {
    "id": "t15IAX7GPJjF"
   },
   "source": [
    "**Вопрос**: хорошо ли откалиброваны кривые для SVM, логистической регрессии?\n",
    "\n",
    "**Ответ:** SVM калибровка выглядит очень плачевно, далеко от идеального варианта, калибровка логистической регрессии выглядит значительно лучше."
   ]
  },
  {
   "cell_type": "markdown",
   "metadata": {
    "id": "cgANQZyhPHIX"
   },
   "source": [
    "Изучите распределение ответов классификаторов (постройте гистограммы с помощью `plt.hist`)."
   ]
  },
  {
   "cell_type": "code",
   "execution_count": 264,
   "metadata": {
    "id": "GAP1X3NObCXp",
    "scrolled": false
   },
   "outputs": [
    {
     "data": {
      "image/png": "[encoded data removed]",
      "text/plain": [
       "<Figure size 864x360 with 2 Axes>"
      ]
     },
     "metadata": {},
     "output_type": "display_data"
    }
   ],
   "source": [
    "#из семинара 6\n",
    "svc_pred = svc.decision_function(X_test)\n",
    "logreg_pred = logreg.decision_function(X_test)\n",
    "\n",
    "sns.set_style('whitegrid')\n",
    "\n",
    "fig, axs = plt.subplots(1, 2, figsize=(12, 5))\n",
    "\n",
    "axs[0].hist(svc_pred, bins=20, color='blue', density='True')\n",
    "axs[1].hist(logreg_pred, bins=20, color='orange', density='True')\n",
    "\n",
    "axs[0].set_xlabel('Выходы классификатора')\n",
    "axs[1].set_xlabel('Выходы классификатора')\n",
    "\n",
    "axs[0].set_ylabel('Плотность')\n",
    "\n",
    "axs[0].set_title('SVC')\n",
    "axs[1].set_title('Logistic regression')\n",
    "\n",
    "plt.suptitle('Распределение выходов классификаторов');"
   ]
  },
  {
   "cell_type": "code",
   "execution_count": 265,
   "metadata": {},
   "outputs": [
    {
     "data": {
      "image/png": "[encoded data removed]",
      "text/plain": [
       "<Figure size 864x360 with 2 Axes>"
      ]
     },
     "metadata": {},
     "output_type": "display_data"
    }
   ],
   "source": [
    "# из семинара 6\n",
    "svc_pred = svc.decision_function(X_test)\n",
    "svc_pred = (svc_pred - svc_pred.min()) / (svc_pred.max() - svc_pred.min())\n",
    "logreg_pred = logreg.predict_proba(X_test)[:, 1]\n",
    "\n",
    "sns.set_style('whitegrid')\n",
    "\n",
    "fig, axs = plt.subplots(1, 2, figsize=(12, 5))\n",
    "\n",
    "axs[0].hist(svc_pred, bins=20, color='blue', density='True')\n",
    "axs[1].hist(logreg_pred, bins=20, color='orange', density='True')\n",
    "\n",
    "axs[0].set_xlabel('Выходы классификатора (вероятности)')\n",
    "axs[1].set_xlabel('Выходы классификатора (вероятности)')\n",
    "\n",
    "axs[0].set_ylabel('Плотность')\n",
    "\n",
    "axs[0].set_title('SVC')\n",
    "axs[1].set_title('Logistic regression')\n",
    "\n",
    "plt.suptitle('Распределение вероятностей классификаторов');"
   ]
  },
  {
   "cell_type": "code",
   "execution_count": 266,
   "metadata": {
    "scrolled": true
   },
   "outputs": [
    {
     "data": {
      "image/png": "[encoded data removed]",
      "text/plain": [
       "<Figure size 864x360 with 2 Axes>"
      ]
     },
     "metadata": {},
     "output_type": "display_data"
    }
   ],
   "source": [
    "\n",
    "y_pred_svc = svc.predict(X_test)\n",
    "y_pred_logreg = logreg.predict(X_test)\n",
    "\n",
    "fig, axs = plt.subplots(1, 2, figsize=(12, 5))\n",
    "\n",
    "axs[0].hist(y_pred_svc, color='blue')\n",
    "axs[1].hist(y_pred_logreg, color='orange')\n",
    "\n",
    "axs[0].set_xlabel('Выходы классификатора (классы)')\n",
    "axs[1].set_xlabel('Выходы классификатора (классы)')\n",
    "\n",
    "axs[0].set_ylabel('Количество значений')\n",
    "\n",
    "axs[0].set_title('SVC')\n",
    "axs[1].set_title('Logistic regression')\n",
    "\n",
    "plt.suptitle('Распределение вероятностей классификаторов');"
   ]
  },
  {
   "cell_type": "markdown",
   "metadata": {
    "id": "S7ga-L4CPK_O"
   },
   "source": [
    "**Вопрос:** Чем они различаются? Чем вы можете объяснить это?"
   ]
  },
  {
   "cell_type": "markdown",
   "metadata": {
    "id": "LOmrLYqdPP_0"
   },
   "source": [
    "**Ответ:** Предсказания моделей отчасти напоминают *нормальное распределение*. SVC также дает нам *нормальное распределение*. В то время как логистическая регрессия дает скорее равномерное распределения с двумя *башенками* хвостами по бокам. Что логично, т к логистическая регрессия стремиться максимизировать вероятность приандлежности к классу, по этому при приближении к распреляющей прямой модель начинает сомневаться. "
   ]
  },
  {
   "cell_type": "markdown",
   "metadata": {
    "id": "M9-6ClfaP75W"
   },
   "source": [
    "Воспользуйтесь `CalibratedClassifierCV` из `sklearn` для калибровки вероятностей метода опорных векторов на обучении и постройте с его помощью  предсказания для тестовой выборки."
   ]
  },
  {
   "cell_type": "code",
   "execution_count": 267,
   "metadata": {
    "id": "RR3pVlSNP75W",
    "scrolled": false
   },
   "outputs": [],
   "source": [
    "\n",
    "calibration_svc = CalibratedClassifierCV(SVC(kernel='linear'), method='sigmoid', cv=10)\n",
    "calibration_svc.fit(X_train, y_train)\n",
    "svc_pred_calibrated = calibration_svc.predict_proba(X_test)[:,1]\n",
    "svc_true_prob, svc_pred_prob = calibration_curve(y_test, svc_pred_calibrated, n_bins=10)\n"
   ]
  },
  {
   "cell_type": "code",
   "execution_count": 278,
   "metadata": {},
   "outputs": [
    {
     "data": {
      "image/png": "[encoded data removed]",
      "text/plain": [
       "<Figure size 720x432 with 1 Axes>"
      ]
     },
     "metadata": {},
     "output_type": "display_data"
    }
   ],
   "source": [
    "fig, ax = plt.subplots( figsize=(10,6 ))\n",
    "sns.lineplot(x= svc_pred_prob,y= svc_true_prob, ax = ax);\n",
    "plt.xlabel('Средняя предсказанная вероятность',  fontsize=12, fontweight=\"bold\")\n",
    "plt.ylabel('Доля положительных классов',  fontsize=12, fontweight=\"bold\")\n",
    "plt.title('Калибровочная прямая',  fontsize=14, fontweight=\"bold\");"
   ]
  },
  {
   "cell_type": "markdown",
   "metadata": {
    "id": "PnwOFuW6XyPc"
   },
   "source": [
    "**Вопрос:** Улучшилась ли калибровочная кривая?\n",
    "\n",
    "**Ответ:** да, произошло значительное улучшение, близкое к идеалу"
   ]
  },
  {
   "cell_type": "markdown",
   "metadata": {
    "id": "p2dpbXgoP75X"
   },
   "source": [
    "##### __Бонус: Авторское решение__ (0.5 балла)\n",
    "\n",
    "Реализуйте свою функцию для калибровки вероятностей, используя любой из известных подходов. Кратко опишите ваш подход и продемонстрируйте результаты. Ключевые слова для вдохновения: `Platt`, `Isotonic`."
   ]
  },
  {
   "cell_type": "code",
   "execution_count": 269,
   "metadata": {
    "id": "R8mtQgBJP75X"
   },
   "outputs": [],
   "source": [
    "#Допустим это можно было делать\n",
    "from scipy.optimize import minimize"
   ]
  },
  {
   "cell_type": "markdown",
   "metadata": {},
   "source": [
    "__Идея__: \n",
    "\n",
    "Шкалирование Платта (Platt), запишем его в формальном виде\n",
    "\n",
    "$ P(y=1 | f) = \\frac{1}{1 + exp(w \\cdot f + \\beta)} $\n",
    "\n",
    "где f выходные оценки модели, w и beta - коэффициенты логистической регрессии. \n",
    "\n",
    "В [оригинале](https://en.wikipedia.org/wiki/Platt_scaling#:~:text=In%20machine%20learning%2C%20Platt%20scaling,a%20probability%20distribution%20over%20classes) А и B, но я слишком привык к w и $\\beta$ потому возьму их.\n",
    "\n",
    "Самое главное происходит в logistic_loss, где А и B оцениваются c помощью метода максимального правдоподобия."
   ]
  },
  {
   "cell_type": "code",
   "execution_count": 283,
   "metadata": {},
   "outputs": [],
   "source": [
    "class PlattScalingCalibrator:\n",
    "    def __init__(self):\n",
    "        self.beta = 0\n",
    "        self.w = 0\n",
    "\n",
    "    # Минимизация logistic loss \n",
    "    def logistic_loss(self, params, f, y):\n",
    "        beta, w = params\n",
    "        y_prob = 1 / (1 + np.exp(beta * f + w))\n",
    "        return - np.sum(np.log(y_prob[y == 1])) - np.sum(np.log(1 - y_prob[y == 0]))\n",
    "    #Фитим\n",
    "    def fit(self, f, y):\n",
    "        params = np.array([0.0, 0.0])  \n",
    "        res = minimize(self.logistic_loss, params, args=(f, y), method='L-BFGS-B')\n",
    "        self.beta, self.B = res.x\n",
    "\n",
    "    # Предиктим \n",
    "    def predict_proba(self, f):\n",
    "        return 1 / (1 + np.exp(self.beta * f + self.w))"
   ]
  },
  {
   "cell_type": "code",
   "execution_count": 284,
   "metadata": {},
   "outputs": [],
   "source": [
    "calibrator = PlattScalingCalibrator()\n",
    "calibrator.fit(X_train, y_train)\n",
    "calibrated_probs = calibrator.predict_proba(X_test)[:,1]\n",
    "true_prob, pred_prob = calibration_curve(y_test, calibrated_probs, n_bins=10)"
   ]
  },
  {
   "cell_type": "code",
   "execution_count": 285,
   "metadata": {
    "scrolled": false
   },
   "outputs": [
    {
     "data": {
      "image/png": "[encoded data removed]",
      "text/plain": [
       "<Figure size 720x432 with 1 Axes>"
      ]
     },
     "metadata": {},
     "output_type": "display_data"
    }
   ],
   "source": [
    "fig, ax = plt.subplots( figsize=(10,6 ))\n",
    "sns.lineplot(x= pred_prob,y= true_prob, ax = ax);\n",
    "plt.xlabel('Средняя предсказанная вероятность',  fontsize=12, fontweight=\"bold\")\n",
    "plt.ylabel('Доля положительных классов',  fontsize=12, fontweight=\"bold\")\n",
    "plt.title('Калибровочные прямые',  fontsize=14, fontweight=\"bold\");"
   ]
  },
  {
   "cell_type": "markdown",
   "metadata": {
    "id": "FaOVU4vJP75X"
   },
   "source": [
    "# Часть 2. Обработка категориальных переменных (4 балла + 1.5 бонус)"
   ]
  },
  {
   "cell_type": "markdown",
   "metadata": {
    "id": "8KQ9ywUEP75X"
   },
   "source": [
    "Как мы знаем, перекодировать категориальную переменную в список чисел (к примеру 1, 2, 3, ..., n) плохо, поскольку это бы задало на множестве ее значений некоторый порядок, не имеющий смысла.\n",
    "\n",
    "В этой части мы рассмотрим два основных способа обработки категориальных значений:\n",
    "- One-hot-кодирование\n",
    "- Счётчики (CTR, mean-target кодирование, ...) — каждый категориальный признак заменяется на среднее значение целевой переменной по всем объектам, имеющим одинаковое значение в этом признаке.\n",
    "\n",
    "Начнём с one-hot-кодирования. Допустим наш категориальный признак $f_j(x)$ принимает значения из множества $C=\\{c_1, \\dots, c_m\\}$. Заменим его на $m$ бинарных признаков $b_1(x), \\dots, b_m(x)$, каждый из которых является индикатором одного из возможных категориальных значений:\n",
    "$$\n",
    "b_i(x) = [f_j(x) = c_i]\n",
    "$$"
   ]
  },
  {
   "cell_type": "markdown",
   "metadata": {
    "id": "pPsScraBP75Y"
   },
   "source": [
    "#### __Подготовка данных__\n",
    "\n",
    "(бесценный шаг)\n",
    "\n",
    "Разберем датасет [покупок велосипедов](https://www.kaggle.com/datasets/heeraldedhia/bike-buyers/): даны признаки покупателя, требуется предсказать, купит ли он/она велосипед\n",
    "\n"
   ]
  },
  {
   "cell_type": "markdown",
   "metadata": {
    "id": "BPuDzNoCo2nk"
   },
   "source": [
    "Замените пропуски в категориальных переменных на новую категорию (`'undefined'`)\n",
    "\n",
    "Разделите признаки на 2 таблицы: категориальные и числовые признаки"
   ]
  },
  {
   "cell_type": "code",
   "execution_count": 33,
   "metadata": {
    "id": "rGWlojJwOEjL"
   },
   "outputs": [],
   "source": [
    "df = pd.read_csv('bike_buyers.csv')\n",
    "\n",
    "\n",
    "X = df.drop(columns=['Purchased Bike'])\n",
    "y = (df['Purchased Bike'] == 'Yes').astype('int64')\n",
    "\n",
    "\n"
   ]
  },
  {
   "cell_type": "code",
   "execution_count": 34,
   "metadata": {
    "scrolled": true
   },
   "outputs": [
    {
     "data": {
      "text/html": [
       "<div>\n",
       "<style scoped>\n",
       "    .dataframe tbody tr th:only-of-type {\n",
       "        vertical-align: middle;\n",
       "    }\n",
       "\n",
       "    .dataframe tbody tr th {\n",
       "        vertical-align: top;\n",
       "    }\n",
       "\n",
       "    .dataframe thead th {\n",
       "        text-align: right;\n",
       "    }\n",
       "</style>\n",
       "<table border=\"1\" class=\"dataframe\">\n",
       "  <thead>\n",
       "    <tr style=\"text-align: right;\">\n",
       "      <th></th>\n",
       "      <th>count</th>\n",
       "      <th>mean</th>\n",
       "      <th>std</th>\n",
       "      <th>min</th>\n",
       "      <th>25%</th>\n",
       "      <th>50%</th>\n",
       "      <th>75%</th>\n",
       "      <th>max</th>\n",
       "    </tr>\n",
       "  </thead>\n",
       "  <tbody>\n",
       "    <tr>\n",
       "      <th>Children</th>\n",
       "      <td>992.0</td>\n",
       "      <td>1.910282</td>\n",
       "      <td>1.626910</td>\n",
       "      <td>0.0</td>\n",
       "      <td>0.0</td>\n",
       "      <td>2.0</td>\n",
       "      <td>3.0</td>\n",
       "      <td>5.0</td>\n",
       "    </tr>\n",
       "    <tr>\n",
       "      <th>Cars</th>\n",
       "      <td>991.0</td>\n",
       "      <td>1.455096</td>\n",
       "      <td>1.121755</td>\n",
       "      <td>0.0</td>\n",
       "      <td>1.0</td>\n",
       "      <td>1.0</td>\n",
       "      <td>2.0</td>\n",
       "      <td>4.0</td>\n",
       "    </tr>\n",
       "  </tbody>\n",
       "</table>\n",
       "</div>"
      ],
      "text/plain": [
       "          count      mean       std  min  25%  50%  75%  max\n",
       "Children  992.0  1.910282  1.626910  0.0  0.0  2.0  3.0  5.0\n",
       "Cars      991.0  1.455096  1.121755  0.0  1.0  1.0  2.0  4.0"
      ]
     },
     "execution_count": 34,
     "metadata": {},
     "output_type": "execute_result"
    }
   ],
   "source": [
    "df[['Children', 'Cars']].describe().T"
   ]
  },
  {
   "cell_type": "code",
   "execution_count": 35,
   "metadata": {
    "scrolled": true
   },
   "outputs": [
    {
     "data": {
      "text/plain": [
       "0-1 Miles     366\n",
       "5-10 Miles    192\n",
       "1-2 Miles     169\n",
       "2-5 Miles     162\n",
       "10+ Miles     111\n",
       "Name: Commute Distance, dtype: int64"
      ]
     },
     "execution_count": 35,
     "metadata": {},
     "output_type": "execute_result"
    }
   ],
   "source": [
    "df['Commute Distance'].value_counts()"
   ]
  },
  {
   "cell_type": "code",
   "execution_count": 38,
   "metadata": {},
   "outputs": [],
   "source": [
    "\n",
    "\n",
    "X_numerical = df[['Income',  'Age', 'Children', 'Cars']]\n",
    "X_categorical = df[['Marital Status', 'Gender','Education',\n",
    "       'Occupation', 'Home Owner', 'Region', 'Commute Distance'  ]]\n",
    "X_categorical.fillna('undefined', inplace = True)"
   ]
  },
  {
   "cell_type": "markdown",
   "metadata": {
    "id": "ch0M2v8Akirw"
   },
   "source": [
    "В начале поработаем только с категориальными признаками"
   ]
  },
  {
   "cell_type": "code",
   "execution_count": 39,
   "metadata": {
    "id": "QIYErZMnP75Z"
   },
   "outputs": [],
   "source": [
    "from sklearn.model_selection import train_test_split\n",
    "X_train, X_test, y_train, y_test = train_test_split(X_categorical, y, test_size=0.25, random_state=777, stratify=y)"
   ]
  },
  {
   "cell_type": "markdown",
   "metadata": {
    "id": "m5LjHkuCP75Z"
   },
   "source": [
    "#### __Задание 3. OrdinalEncoder__  (0.5 балла)\n",
    "\n",
    "Закодируйте категориальные признаки с помощью `OrdinalEncoder`. Посчитайте качество (в этом задании будем работать c __`AUC-PR`__) при применении логистической регрессии. Замерьте время, потребовавшееся на обучение модели, с учетом кодирования признаков."
   ]
  },
  {
   "cell_type": "code",
   "execution_count": 43,
   "metadata": {},
   "outputs": [],
   "source": [
    "from sklearn.preprocessing import OrdinalEncoder, OneHotEncoder, StandardScaler\n",
    "from sklearn.linear_model import LogisticRegression\n",
    "from sklearn.compose import ColumnTransformer\n",
    "from sklearn.pipeline import Pipeline\n",
    "import time"
   ]
  },
  {
   "cell_type": "code",
   "execution_count": 44,
   "metadata": {},
   "outputs": [],
   "source": [
    "column_transformer = ColumnTransformer([\n",
    "    ('ordinal', OrdinalEncoder(), X_train.columns)\n",
    "])\n",
    "\n",
    "pipeline = Pipeline(steps=[\n",
    "    ('ordinal', column_transformer),\n",
    "    ('regression', LogisticRegression(max_iter=100000, random_state=42))\n",
    "])"
   ]
  },
  {
   "cell_type": "code",
   "execution_count": 45,
   "metadata": {},
   "outputs": [
    {
     "name": "stdout",
     "output_type": "stream",
     "text": [
      "Качество (AUC-PR) равно 0.57894,\n",
      "Время расчета составило 0.0 секунд\n"
     ]
    }
   ],
   "source": [
    "np.random.seed(42)\n",
    "\n",
    "start = time.process_time()\n",
    "model = pipeline.fit(X_train, y_train)\n",
    "\n",
    "finish = time.process_time()\n",
    "\n",
    "delta_time = finish - start\n",
    "\n",
    "pred = model.decision_function(X_test)\n",
    "\n",
    "auc_log_reg = AUC_PR(y_test, pred)\n",
    "\n",
    "print(\"Качество (AUC-PR) равно {},\\nВремя расчета составило {} секунд\"\\\n",
    ".format(round(auc_log_reg, 5), delta_time))"
   ]
  },
  {
   "cell_type": "markdown",
   "metadata": {
    "id": "ScIo7NthP75a"
   },
   "source": [
    "#### __Задание 4. One-Hot Encoding__ (0.5 балла)\n",
    "\n"
   ]
  },
  {
   "cell_type": "markdown",
   "metadata": {
    "id": "p3sFuKAtLwOx"
   },
   "source": [
    "Закодируйте все категориальные признаки с помощью one-hot-кодирования. Обучите логистическую регрессию и посмотрите, как изменилось качество модели (в сравнении с тем, что было до кодирования). Измерьте время, потребовавшееся на кодирование категориальных признаков и обучение модели."
   ]
  },
  {
   "cell_type": "code",
   "execution_count": 46,
   "metadata": {},
   "outputs": [],
   "source": [
    "column_transformer = ColumnTransformer([\n",
    "    ('ohe', OneHotEncoder(), X_train.columns)\n",
    "])\n",
    "pipeline = Pipeline(steps = [\n",
    "    ('ohe', column_transformer),\n",
    "    ('regression', LogisticRegression(max_iter= 100000, random_state=13) )\n",
    "])"
   ]
  },
  {
   "cell_type": "code",
   "execution_count": 47,
   "metadata": {
    "id": "t4PbjLIHP75a"
   },
   "outputs": [
    {
     "name": "stdout",
     "output_type": "stream",
     "text": [
      "Качество (AUC-PR) равно 0.66186,\n",
      "Время расчета составило 0.03125 секунд\n"
     ]
    }
   ],
   "source": [
    "np.random.seed(42)\n",
    "\n",
    "start = time.process_time()\n",
    "model = pipeline.fit(X_train, y_train)\n",
    "finish = time.process_time()\n",
    "delta_time = finish - start\n",
    "pred = model.decision_function(X_test)\n",
    "auc_log_reg = AUC_PR(y_test, pred)\n",
    "print(\"Качество (AUC-PR) равно {},\\nВремя расчета составило {} секунд\"\\\n",
    ".format(round(auc_log_reg, 5), delta_time))"
   ]
  },
  {
   "cell_type": "markdown",
   "metadata": {
    "id": "9p-qOs6lP75b"
   },
   "source": [
    "Как можно заметить, one-hot-кодирование может сильно увеличивать количество признаков. Это сказывается на объеме необходимой памяти, особенно, если некоторый признак имеет большое количество значений.\n"
   ]
  },
  {
   "cell_type": "markdown",
   "metadata": {
    "id": "l1q3k3yaLF8Y"
   },
   "source": [
    "#### __Задание 5. Mean-target Encoding__ (1 балл)"
   ]
  },
  {
   "cell_type": "markdown",
   "metadata": {
    "id": "tanu5Hm5Lr7R"
   },
   "source": [
    "> Проблемы разрастания числа признаков можно избежать в другом способе кодирования категориальных признаков — mean-target encoding (для простоты будем называть это __счётчиками__). Сравним эффективность методов в рамках нашей маркетинговой задачи.\n",
    "\n",
    "> Основная идея в том, что важны не сами категории, а значения целевой переменной, которые имеют объекты этой категории. Каждый категориальный признак мы заменим средним значением целевой переменной по всем объектам этой же категории:\n",
    "\n",
    "$$\n",
    "g_j(x, X) = \\frac{\\sum_{i=1}^{\\ell} [f_j(x) = f_j(x_i)][y_i = +1]}{\\sum_{i=1}^{\\ell} [f_j(x) = f_j(x_i)]}\n",
    "$$\n",
    "\n",
    "Закодируйте категориальные переменные с помощью счётчиков (ровно так, как описано выше, без каких-либо хитростей). Обучите логистическую регрессию и посмотрите на качество модели на тестовом множестве.\n",
    "\n",
    "Сравните время обучения с предыдущими экспериментами (с учетом кодирования признаков)."
   ]
  },
  {
   "cell_type": "code",
   "execution_count": 48,
   "metadata": {
    "id": "v9MNSGWrgz5-"
   },
   "outputs": [],
   "source": [
    "def mean_target_encoding(X_train, X_test, y_train, feature_name):\n",
    "    data = X_train.copy()\n",
    "    data['y'] = y_train\n",
    "\n",
    "    mean_encoded = data.groupby(feature_name)['y'].mean()\n",
    "    X_train[feature_name + '_mte'] = X_train[feature_name].map(mean_encoded)\n",
    "    X_test[feature_name + '_mte'] = X_test[feature_name].map(mean_encoded)\n",
    "    X_train = X_train.drop([feature_name], axis=1)\n",
    "    X_test = X_test.drop([feature_name], axis=1)\n",
    "    return X_train, X_test"
   ]
  },
  {
   "cell_type": "code",
   "execution_count": 49,
   "metadata": {},
   "outputs": [],
   "source": [
    "new_features = list(map(lambda x: x + '_mte', X_train.columns))"
   ]
  },
  {
   "cell_type": "code",
   "execution_count": 50,
   "metadata": {},
   "outputs": [
    {
     "name": "stdout",
     "output_type": "stream",
     "text": [
      "Качество на тесте (AUC-PR) равно 0.65269,\n",
      "Время расчета  0.09375 секунд\n",
      "Качество на трейне (AUC-PR) равно 0.63193\n"
     ]
    }
   ],
   "source": [
    "np.random.seed(42)\n",
    "\n",
    "X_train_encoded = X_train.copy()\n",
    "X_test_encoded = X_test.copy()\n",
    "\n",
    "start_time1 = time.process_time()  \n",
    "\n",
    "for column in X_train.columns:\n",
    "    X_train_encoded, X_test_encoded = mean_target_encoding(X_train_encoded, X_test_encoded, y_train, column)\n",
    "    \n",
    "lr_mte = LogisticRegression(max_iter=100000, random_state=13).fit(X_train_encoded, y_train)\n",
    "finish = time.process_time()\n",
    "\n",
    "delta_time = finish - start\n",
    "\n",
    "y_pred_lr = lr_mte.decision_function(X_test_encoded)\n",
    "auc_pr_lr = AUC_PR(y_test, y_pred_lr)\n",
    "\n",
    "print(\"Качество на тесте (AUC-PR) равно {},\\nВремя расчета  {} секунд\"\\\n",
    ".format(round(auc_pr_lr, 5), delta_time))\n",
    "pred_lr = lr_mte.decision_function(X_train_encoded)\n",
    "auc_pr_lr = AUC_PR(y_train, pred_lr)\n",
    "print(\"Качество на трейне (AUC-PR) равно {}\"\\\n",
    ".format(round(auc_pr_lr, 5), delta_time))"
   ]
  },
  {
   "cell_type": "markdown",
   "metadata": {
    "id": "ABXherJ3LGBj"
   },
   "source": [
    "##### __Бонус: Эффективная реализация (1 балл)__\n",
    "\n",
    "Здесь и далее реализуйте вычисление счетчиков с помощью трансформера (наследуйтесь от классов `BaseEstimator, TransformerMixin` из `sklearn.base`). Обратите внимание, что все вычисления должны быть векторизованными, трансформер не должен модифицировать передаваемую ему выборку inplace, а все необходимые статистики нужно считать только по обучающей выборке в методе `fit`. Ваш трансформер должен принимать при инициализации список из категориальных признаков и изменять только их."
   ]
  },
  {
   "cell_type": "code",
   "execution_count": 51,
   "metadata": {
    "id": "Kk8D4dDuP75b"
   },
   "outputs": [],
   "source": [
    "#your code here"
   ]
  },
  {
   "cell_type": "markdown",
   "metadata": {
    "id": "bH-JPoINqJ62"
   },
   "source": [
    "_______\n",
    "\n",
    "__Методы борьбы с переобучением счетчиков__\n",
    "\n",
    "\n",
    "Отметим, что mean-target encoding признаки сами по себе являются классификаторами и, обучаясь на них, мы допускаем \"утечку\" целевой переменной в признаки. Это ведёт к __переобучению__, поэтому считать такие признаки необходимо таким образом, чтобы при вычислении для конкретного объекта его __целевая метка не использовалась__.\n",
    "\n",
    "Это можно делать следующими способами:\n",
    "1. Вычислять значение счётчика по всем объектам расположенным выше в датасете (например, если у нас выборка отсортирована по времени).\n",
    "2. Вычислять по фолдам, то есть делить выборку на некоторое количество частей и подсчитывать значение признаков по всем фолдам кроме текущего (как делается в кросс-валидации).\n",
    "3. Внесение некоторого шума в посчитанные признаки.\n",
    "\n",
    "#### __Задание 6. Пошумим__  (0.5 балла)\n",
    "\n",
    "\n",
    "\n",
    "Реализуйте корректное вычисление счётчиков самым простым способом — добавление шума к значениям.  При этом постарайтесь найти баланс между борьбой с переобучением и сохранением полезности признаков. Снова обучите логистическую регрессию, оцените качество."
   ]
  },
  {
   "cell_type": "markdown",
   "metadata": {},
   "source": [
    "Переберем несколько значений станданртных отклонений"
   ]
  },
  {
   "cell_type": "code",
   "execution_count": 52,
   "metadata": {
    "scrolled": true
   },
   "outputs": [],
   "source": [
    "np.random.seed(42)\n",
    "\n",
    "scales = np.linspace(0.01, 1, 20)\n",
    "auc_prs = []\n",
    "\n",
    "for scale in scales:\n",
    "    X_train_encoded = X_train.copy()\n",
    "    X_test_encoded = X_test.copy()\n",
    "    \n",
    "    for column in X_train.columns:\n",
    "        X_train_encoded, X_test_encoded = mean_target_encoding(X_train_encoded, X_test_encoded, y_train, column)\n",
    "        \n",
    "    for new_feature in X_train_encoded.columns:\n",
    "        X_train_encoded[new_feature] = X_train_encoded[new_feature] + np.random.normal(loc=0, scale=scale, size=X_train_encoded.shape[0])\n",
    "        X_test_encoded[new_feature] = X_test_encoded[new_feature] + np.random.normal(loc=0, scale=scale, size=X_test_encoded.shape[0])\n",
    "        \n",
    "    noisy_logistic_reg = LogisticRegression(max_iter=100000, random_state=13).fit(X_train_encoded, y_train)\n",
    "    log_reg_noise = noisy_logistic_reg .decision_function(X_test_encoded)\n",
    "    auc_pr_lr = AUC_PR(y_test, log_reg_noise)\n",
    "\n",
    "    auc_prs.append(auc_pr_lr)"
   ]
  },
  {
   "cell_type": "code",
   "execution_count": 53,
   "metadata": {
    "scrolled": false
   },
   "outputs": [
    {
     "name": "stdout",
     "output_type": "stream",
     "text": [
      "Лучшее значение стандартного отклонения равно 0.01\n",
      "Лучшее качество на test (AUC-PR) равно 0.64953.\n",
      "Это на 0.00316 лучше\n"
     ]
    }
   ],
   "source": [
    "best_idx = np.argmax(auc_prs)\n",
    "print(\"Лучшее значение стандартного отклонения равно {}\\\n",
    "\\nЛучшее качество на test (AUC-PR) равно {}.\\nЭто на {} лучше\"\\\n",
    "      .format( scales[best_idx], round(auc_prs[best_idx], 5), round(0.65269-round(auc_prs[best_idx], 5), 5) ))"
   ]
  },
  {
   "cell_type": "markdown",
   "metadata": {
    "id": "UOxwE8rGLSzH"
   },
   "source": [
    "**Вопрос:** Сделайте выводы. Помогло ли добавление шума? Почему?\n",
    "\n",
    "**Ответ:** Не сильно лучше, самое оптимальное значение шума и стандартного отклонения - наименьшее, то есть нет особо сильного переобучения. Идея привнести шум возможно не работает, т к данных не так много. "
   ]
  },
  {
   "cell_type": "markdown",
   "metadata": {
    "id": "1GtUtPCjP75c"
   },
   "source": [
    "##### __Бонус: другой подход__ (0.5 балла)\n",
    "\n",
    "Посчитайте корректные счётчики первым или вторым способов из описанных выше (не забудьте добавить и шум).\n",
    "\n",
    "\n"
   ]
  },
  {
   "cell_type": "code",
   "execution_count": 54,
   "metadata": {
    "id": "AjqsSTd6P75c"
   },
   "outputs": [],
   "source": [
    "#your code here"
   ]
  },
  {
   "cell_type": "markdown",
   "metadata": {
    "id": "aMe2b5i6P75d"
   },
   "source": [
    "#### __Задание 7. Сглаживание счетчиков__  (1 балл)"
   ]
  },
  {
   "cell_type": "markdown",
   "metadata": {
    "id": "4gnmTaJqP75d"
   },
   "source": [
    "> Теперь ответим на следующий вопрос: что будет, если некоторая категория встречается в выборке всего несколько раз? По этой причине производится сглаживание счётчиков. Например, на практике хорошие результаты показывает использование сглаживания средним по всей выборке:\n",
    "$$\n",
    "g_j(x, X) = \\frac{\\sum_{i=1}^{\\ell} [f_j(x) = f_j(x_i)][y_i = +1] + C \\times global\\_mean}{\\sum_{i=1}^{\\ell} [f_j(x) = f_j(x_i)] + C}\n",
    "$$\n",
    "где $global\\_mean$ — доля объектов положительного класса в выборке, $C$ — параметр, определяющий степень сглаживания (можно использовать 10 или подобрать для каждого признака свой). Идея в том, что мы \"разбавляем\" среднее значение по категории глобальным средним значением. И тем меньше, чем большее количество объектов этой категории встречается в выборке.\n",
    "\n",
    "> Вместо среднего значения целевой переменной для сглаживания можно использовать любое другое значение от 0 до 1 (этот параметр иногда называют $prior$). Можно сделать несколько признаков с разными значениями параметра. На практике в задачах бинарной классификации полезными бывают даже отрицательные значения!\n",
    "\n",
    "Добавьте сглаживание, описанное выше и повторите эксперименты. Подберите $C$, чтобы качество было лучше, чем при использовании One-Hot-Encoding\n"
   ]
  },
  {
   "cell_type": "code",
   "execution_count": 55,
   "metadata": {},
   "outputs": [],
   "source": [
    "def smooth_mean_target_encoding(X_train, X_test, y_train, feature_name, C=10):\n",
    "    data = X_train.copy()\n",
    "    data['y'] = y_train\n",
    "    mean_global = data['y'].mean()\n",
    "\n",
    "    counts = data.groupby(feature_name)['y'].count()\n",
    "    means = data.groupby(feature_name)['y'].mean()\n",
    "    smooth = (counts * means + C * mean_global) / (counts + C)\n",
    "\n",
    "    X_train[feature_name+'_s_mte'] = X_train[feature_name].map(smooth)\n",
    "    X_test[feature_name+'_s_mte'] = X_test[feature_name].map(smooth)\n",
    "    X_train = X_train.drop([feature_name], axis=1)\n",
    "    X_test = X_test.drop([feature_name], axis=1)\n",
    "    return X_train, X_test"
   ]
  },
  {
   "cell_type": "code",
   "execution_count": 56,
   "metadata": {},
   "outputs": [],
   "source": [
    "smoothed_features  = list(map(lambda x: x + '_s_mte', X_train.columns))\n",
    "\n",
    "pipeline = Pipeline(steps=[\n",
    "    #('ohe_and_scaling', column_transformer),\n",
    "    ('regression', LogisticRegression(max_iter=100000, random_state=13))\n",
    "])"
   ]
  },
  {
   "cell_type": "code",
   "execution_count": 57,
   "metadata": {},
   "outputs": [
    {
     "name": "stdout",
     "output_type": "stream",
     "text": [
      "Качество на test (AUC-PR) составило: 0.66974\n",
      "Время расчетов 0.046875  в секундах\n"
     ]
    }
   ],
   "source": [
    "np.random.seed(42)\n",
    "\n",
    "\n",
    "X_train_smooth_encoded = X_train.copy()\n",
    "X_test_smooth_encoded = X_test.copy()\n",
    "\n",
    "start = time.process_time() \n",
    "\n",
    "for column in X_train.columns:\n",
    "    X_train_smooth_encoded, X_test_smooth_encoded = smooth_mean_target_encoding(X_train_smooth_encoded,\n",
    "                                                                                X_test_smooth_encoded,\n",
    "                                                                                y_train, column)\n",
    "\n",
    "\n",
    "\n",
    "model = pipeline.fit(X_train_smooth_encoded, y_train)\n",
    "finish = time.process_time()\n",
    "\n",
    "delta_time = finish - start\n",
    "\n",
    "pred_smooth = model.decision_function(X_test_smooth_encoded)\n",
    "auc_pr_lr = AUC_PR(y_test, pred_smooth)\n",
    "    \n",
    "print(\"Качество на test (AUC-PR) составило: {}\\\n",
    "\\nВремя расчетов {}  в секундах\"\\\n",
    ".format(round(auc_pr_lr, 5), delta_time))"
   ]
  },
  {
   "cell_type": "markdown",
   "metadata": {
    "id": "TksKMbr_P75d"
   },
   "source": [
    "#### **Задание 8. Числовые или категориальные?**  (0.5 балла)\n",
    "\n",
    "Теперь добавим числовые признаки к признакам-счетчикам.\n",
    "\n",
    "\n",
    "В данных есть пропуски - замените их средним значением признака\n",
    "\n"
   ]
  },
  {
   "cell_type": "code",
   "execution_count": 58,
   "metadata": {},
   "outputs": [],
   "source": [
    "X_numerical = X_numerical.fillna(X_numerical.mean())"
   ]
  },
  {
   "cell_type": "code",
   "execution_count": 59,
   "metadata": {
    "id": "NGE4O-alP75e",
    "scrolled": true
   },
   "outputs": [
    {
     "name": "stdout",
     "output_type": "stream",
     "text": [
      "(1000, 11) (1000,)\n"
     ]
    }
   ],
   "source": [
    "X = pd.concat([X_numerical, X_categorical], axis=1 )\n",
    "X_train, X_test, y_train, y_test = train_test_split(X, y, test_size=0.25, random_state=777, stratify=y)\n",
    "print(X.shape, y.shape)"
   ]
  },
  {
   "cell_type": "markdown",
   "metadata": {
    "id": "JfqXdaqblnZo"
   },
   "source": [
    " Сейчас для числовых признаков мы ищем линейную зависимость, что в общем случае  может быть неверной гипотезой. Тем не менее, у этих признаков есть довольно много уникальных значений (сколько?), поэтому применять к ним one-hot кодирование может оказаться излишним. Попробуйте закодировать эти признаки с помощью счетчиков (вместе и по отдельности). Стало ли лучше?"
   ]
  },
  {
   "cell_type": "code",
   "execution_count": 60,
   "metadata": {},
   "outputs": [],
   "source": [
    "def unique_count(df, feature):\n",
    "    print('У числового призанка \"{}\"  {} уникальных значений'\\\n",
    "          .format( feature,   len(df[feature].unique())    ) )"
   ]
  },
  {
   "cell_type": "code",
   "execution_count": 61,
   "metadata": {
    "scrolled": false
   },
   "outputs": [
    {
     "name": "stdout",
     "output_type": "stream",
     "text": [
      "У числового призанка \"Income\"  17 уникальных значений\n",
      "У числового призанка \"Age\"  54 уникальных значений\n",
      "У числового призанка \"Children\"  7 уникальных значений\n",
      "У числового призанка \"Cars\"  6 уникальных значений\n"
     ]
    }
   ],
   "source": [
    "for feature in X_numerical.columns:\n",
    "    unique_count(X_numerical, feature)\n",
    "    "
   ]
  },
  {
   "cell_type": "code",
   "execution_count": 62,
   "metadata": {},
   "outputs": [],
   "source": [
    "new_smoothed_categorical_features = list(map(lambda x: x + '_s_mte', X_numerical.columns))\n",
    "\n",
    "\n",
    "\n",
    "pipeline = Pipeline(steps=[\n",
    "    #('ohe_and_scaling', column_transformer),\n",
    "    ('regression', LogisticRegression(max_iter=100000, random_state=13))\n",
    "])"
   ]
  },
  {
   "cell_type": "code",
   "execution_count": 63,
   "metadata": {},
   "outputs": [
    {
     "name": "stdout",
     "output_type": "stream",
     "text": [
      "Качество на test (AUC-PR) составило: 0.66542\n",
      "Потраченное время 0.09375\n"
     ]
    }
   ],
   "source": [
    "columns = new_smoothed_categorical_features + smoothed_features\n",
    "\n",
    "np.random.seed(42)\n",
    "X_train_smooth_encoded = X_train.copy()\n",
    "X_test_smooth_encoded = X_test.copy()\n",
    "y_train_new = y_train[:]\n",
    "y_test_new = y_test[:]\n",
    "\n",
    "start = time.process_time()\n",
    "\n",
    "for column in X_train.columns:\n",
    "     X_train_smooth_encoded, X_test_smooth_encoded = smooth_mean_target_encoding(\n",
    "         X_train_smooth_encoded, X_test_smooth_encoded, y_train_new, column)\n",
    "    \n",
    "X_test_smooth_encoded = X_test_smooth_encoded.dropna()\n",
    "y_test_new = y_test_new[X_test_smooth_encoded.index]\n",
    "\n",
    "model = pipeline.fit(X_train_smooth_encoded, y_train_new)\n",
    "\n",
    "finish = time.process_time()\n",
    "delta_time = finish - start\n",
    "\n",
    "pred_smooth_mte = model.decision_function(X_test_smooth_encoded)\n",
    "auc_pr_lr = AUC_PR(y_test_new, pred_smooth_mte)\n",
    "\n",
    "\n",
    "\n",
    "print(\"Качество на test (AUC-PR) составило: {}\\\n",
    "\\nПотраченное время {}\"\\\n",
    "     .format(round(auc_pr_lr, 5), delta_time))"
   ]
  },
  {
   "cell_type": "markdown",
   "metadata": {
    "id": "ia0qk__0iNCS"
   },
   "source": [
    "> __Замечание.__ Усложнение методов вычисления счётчиков не делают результаты модели гарантированно лучше. Особенно с учётом того, что логистическая регрессия не такая сложная модель, чтобы переобучаться. Поэтому вы необязательно должны были получать на каждом шаге всё лучшие и лучшие результаты (но необходимые результаты у вас должны были получиться)."
   ]
  },
  {
   "cell_type": "markdown",
   "metadata": {
    "id": "2mwXyUnOP75e"
   },
   "source": [
    "\n",
    "\n",
    "Как мы могли пронаблюдать, счётчики являются конкурентной альтернативой one-hot-кодированию. Опишите, какие плюсы и минусы использования счётчиков по сравнению с one-hot-кодированием вы заметили.\n",
    "\n",
    "__Ответ:__ здесь не только, что я заметил при выполнении конкретного номера, но и в общем\n",
    "\n",
    "плюсы :\n",
    " - Сохранение информации о распределии переменной\n",
    " - Робастность (устойчивость) к размеру данных (у one-hot кодирование напротив возникате разреженность)\n",
    " \n",
    "минусы:\n",
    " - Угроза переобучения - особенно если мало уникальных значений (у нас с этим как раз проблемы не возникло)\n",
    " - Более сложная интерпретация - особенно если переменная напрямую влияет на таргет "
   ]
  },
  {
   "cell_type": "markdown",
   "metadata": {
    "id": "_oU4I7HjP75f"
   },
   "source": [
    "# Часть 3. Отбор признаков (2 балла)"
   ]
  },
  {
   "cell_type": "markdown",
   "metadata": {
    "id": "EsmcHDoZNu5l"
   },
   "source": [
    "Загрузим данные [UCI Adult Dataset](https://archive.ics.uci.edu/ml/datasets/Adult). Этот набор данных содержит информацию о годовых доходах отдельных людей. В качестве признакового описания используется различная информация о человеке (образование, профессия, брачный статус и т.д.). Целевая переменная является бинарной: больше ли годовой доход 50K долларов или нет."
   ]
  },
  {
   "cell_type": "code",
   "execution_count": 64,
   "metadata": {
    "id": "hk7jX8EsNrz2"
   },
   "outputs": [],
   "source": [
    "#!wget https://archive.ics.uci.edu/ml/machine-learning-databases/adult/adult.data"
   ]
  },
  {
   "cell_type": "markdown",
   "metadata": {
    "id": "JKb6BsQMP75f"
   },
   "source": [
    "Важной частью процесса построения модели является отбор признаков. На практике многие признаки оказывают малое влияние на модель (при этом их расчёт занимает время) или даже негативно сказываются на качестве модели. Попробуем несколько подходов отбора признаков, оценим, как они влияют на качество модели и сколько времени занимают.\n",
    "\n"
   ]
  },
  {
   "cell_type": "code",
   "execution_count": 208,
   "metadata": {
    "id": "XVqw4RQ5iXRC"
   },
   "outputs": [
    {
     "data": {
      "text/html": [
       "<div>\n",
       "<style scoped>\n",
       "    .dataframe tbody tr th:only-of-type {\n",
       "        vertical-align: middle;\n",
       "    }\n",
       "\n",
       "    .dataframe tbody tr th {\n",
       "        vertical-align: top;\n",
       "    }\n",
       "\n",
       "    .dataframe thead th {\n",
       "        text-align: right;\n",
       "    }\n",
       "</style>\n",
       "<table border=\"1\" class=\"dataframe\">\n",
       "  <thead>\n",
       "    <tr style=\"text-align: right;\">\n",
       "      <th></th>\n",
       "      <th>age</th>\n",
       "      <th>workclass</th>\n",
       "      <th>fnlwgt</th>\n",
       "      <th>education</th>\n",
       "      <th>education-num</th>\n",
       "      <th>marital-status</th>\n",
       "      <th>occupation</th>\n",
       "      <th>relationship</th>\n",
       "      <th>race</th>\n",
       "      <th>sex</th>\n",
       "      <th>capital-gain</th>\n",
       "      <th>capital-loss</th>\n",
       "      <th>hours-per-week</th>\n",
       "      <th>native-country</th>\n",
       "      <th>income</th>\n",
       "    </tr>\n",
       "  </thead>\n",
       "  <tbody>\n",
       "    <tr>\n",
       "      <th>10517</th>\n",
       "      <td>36</td>\n",
       "      <td>Private</td>\n",
       "      <td>177616</td>\n",
       "      <td>5th-6th</td>\n",
       "      <td>3</td>\n",
       "      <td>Separated</td>\n",
       "      <td>Machine-op-inspct</td>\n",
       "      <td>Not-in-family</td>\n",
       "      <td>White</td>\n",
       "      <td>Female</td>\n",
       "      <td>0</td>\n",
       "      <td>0</td>\n",
       "      <td>40</td>\n",
       "      <td>United-States</td>\n",
       "      <td>0</td>\n",
       "    </tr>\n",
       "  </tbody>\n",
       "</table>\n",
       "</div>"
      ],
      "text/plain": [
       "       age workclass  fnlwgt education  education-num marital-status  \\\n",
       "10517   36   Private  177616   5th-6th              3      Separated   \n",
       "\n",
       "               occupation    relationship    race      sex  capital-gain  \\\n",
       "10517   Machine-op-inspct   Not-in-family   White   Female             0   \n",
       "\n",
       "       capital-loss  hours-per-week  native-country  income  \n",
       "10517             0              40   United-States       0  "
      ]
     },
     "execution_count": 208,
     "metadata": {},
     "output_type": "execute_result"
    }
   ],
   "source": [
    "columns = ['age', 'workclass', 'fnlwgt', 'education',\n",
    "           'education-num', 'marital-status', 'occupation',\n",
    "           'relationship', 'race', 'sex', 'capital-gain',\n",
    "           'capital-loss', 'hours-per-week', 'native-country',\n",
    "           'income']\n",
    "\n",
    "df = pd.read_csv('adult.data', header=None, names=columns)\n",
    "df['income'] = (df['income'] != \" <=50K\").astype('int32')\n",
    "df.sample()"
   ]
  },
  {
   "cell_type": "markdown",
   "metadata": {
    "id": "iGqys4ZpiXjr"
   },
   "source": [
    "Разделите выборку на обучающую и тестовую в соотношении 3:1. Зафиксируйте `random_state=777`, также используйте `stratify`."
   ]
  },
  {
   "cell_type": "code",
   "execution_count": 209,
   "metadata": {
    "id": "M2TT35c_iYc-"
   },
   "outputs": [
    {
     "data": {
      "text/plain": [
       "((24420, 14), (24420,), (8141, 14), (8141,))"
      ]
     },
     "execution_count": 209,
     "metadata": {},
     "output_type": "execute_result"
    }
   ],
   "source": [
    "X_train, X_test, y_train, y_test = train_test_split(df.iloc[:, :-1], df.income, test_size=0.25, stratify=df.income, random_state=777)\n",
    "X_train.shape, y_train.shape, X_test.shape, y_test.shape"
   ]
  },
  {
   "cell_type": "markdown",
   "metadata": {
    "id": "-uAlw2X-P75f"
   },
   "source": [
    "Давайте закодируем все категориальные признаки с помощью One-hot Encoding. Сколько новых признаков мы получим?"
   ]
  },
  {
   "cell_type": "code",
   "execution_count": 210,
   "metadata": {
    "id": "ILg-JGugP75f"
   },
   "outputs": [
    {
     "name": "stdout",
     "output_type": "stream",
     "text": [
      "Получили 88 новых признаков\n"
     ]
    }
   ],
   "source": [
    "categorical_features = list(X_train.dtypes[X_train.dtypes == \"object\"].index)\n",
    "numeric_features = list(X_train.dtypes[X_train.dtypes == \"int64\"].index)\n",
    "\n",
    "ohe = OneHotEncoder()\n",
    "\n",
    "X_train_ohe = ohe.fit_transform(X_train[categorical_features])\n",
    "X_test_ohe = ohe.transform(X_test[categorical_features])\n",
    "print(\"Получили {} новых признаков\".format(X_train_ohe.shape[1] - X_train.shape[1]))"
   ]
  },
  {
   "cell_type": "markdown",
   "metadata": {
    "id": "kq-XZwf3P75g"
   },
   "source": [
    "В качестве основной модели будем использовать логистическую регрессию, а целевой метрики — `AUC-PR`. Обучите модель и посчитайте качество на тестовой выборке. Давайте запомним полученное значение."
   ]
  },
  {
   "cell_type": "code",
   "execution_count": 211,
   "metadata": {
    "id": "XMH5D_6OP75g"
   },
   "outputs": [],
   "source": [
    "column_transformer = ColumnTransformer([\n",
    "    ('ohe', OneHotEncoder(), categorical_features),\n",
    "    ('scaling', StandardScaler(), numeric_features)\n",
    "])"
   ]
  },
  {
   "cell_type": "code",
   "execution_count": 212,
   "metadata": {
    "scrolled": true
   },
   "outputs": [
    {
     "name": "stdout",
     "output_type": "stream",
     "text": [
      "Качество (AUC-PR) составило :0.76713\n"
     ]
    }
   ],
   "source": [
    "np.random.seed(42)\n",
    "\n",
    "\n",
    "\n",
    "X_train_transformed = column_transformer.fit_transform(X_train)\n",
    "X_test_transformed = column_transformer.transform(X_test)\n",
    "\n",
    "model_base = LogisticRegression(max_iter=100000, random_state=13).fit(X_train_transformed, y_train)\n",
    "\n",
    "y_pred_base = model_base.decision_function(X_test_transformed)\n",
    "auc_pr_lr = AUC_PR(y_test, y_pred_base)\n",
    "\n",
    "print('Качество (AUC-PR) составило :{}'.format( round(auc_pr_lr, 5)) )"
   ]
  },
  {
   "cell_type": "markdown",
   "metadata": {},
   "source": [
    "Запомним этот порог **0.7671**"
   ]
  },
  {
   "cell_type": "markdown",
   "metadata": {
    "id": "QD7jIiDeP75g"
   },
   "source": [
    "#### __Задание 9. Встроенные методы (0.5 балла)__"
   ]
  },
  {
   "cell_type": "markdown",
   "metadata": {
    "id": "bf2T9xtUP75g"
   },
   "source": [
    "Допустим, мы хотим оставить только 40 лучших признаков. Попробуем сделать это несколькими способами.\n",
    "\n",
    "Начнём с отборам признаков с помощью линейной модели. Как известно, веса линейной модели означают вклад каждого признака в предсказание модели, а значит, модуль этого вклада можно интерпретировать как важность признаков. Такой метод отбора называются встроенным или embedded method, так как он заложен в особенности модели.\n",
    "\n",
    "Оставьте 40 признаков с наибольшим модулем соответствующего параметра линейной модели. Обучите модели заново и оцените её качество. Замерьте скорость такого отбора признаков.\n",
    "\n"
   ]
  },
  {
   "cell_type": "code",
   "execution_count": 213,
   "metadata": {
    "id": "wqOH9EunP75g"
   },
   "outputs": [],
   "source": [
    "def top_40_features(model, X_train_derive, X_test_derive):\n",
    "    coef_dict = {}\n",
    "    for i, w in  enumerate(model.coef_[0]):\n",
    "        coef_dict[i] = w\n",
    "    bad_features_list = []\n",
    "    \n",
    "    for k, v in coef_dict.items():\n",
    "        if np.abs(v) not in np.sort(np.abs(model.coef_[0]))[::-1][:40]:\n",
    "            bad_features_list.append(k)\n",
    "    best_feature_idx = list(coef_dict.keys())\n",
    "    \n",
    "    return X_train_derive[:, best_feature_idx], X_test_derive[:, best_feature_idx], best_feature_idx\n",
    "    "
   ]
  },
  {
   "cell_type": "code",
   "execution_count": 214,
   "metadata": {},
   "outputs": [
    {
     "data": {
      "text/plain": [
       "108"
      ]
     },
     "execution_count": 214,
     "metadata": {},
     "output_type": "execute_result"
    }
   ],
   "source": [
    "X_train_best, X_test_best, best_feature_idx = top_40_features(model_base, X_train_transformed, X_test_transformed)\n",
    "\n",
    "len(best_feature_idx)"
   ]
  },
  {
   "cell_type": "markdown",
   "metadata": {
    "id": "CCmtS99eVVrC"
   },
   "source": [
    "Изменилось ли качество? Как?"
   ]
  },
  {
   "cell_type": "markdown",
   "metadata": {
    "id": "E5y5hVyYP75h"
   },
   "source": [
    "Подумаем, что мы не учли. Мы действовали в предположении, что признаки вносят вклад равномерно, и не учитывали их масштаб. Если мы умножим один из признаков в 100 раз, то без учёта регуляризации его вес уменьшится в эти же 100 раз. А мы на основе этого отбираем признаки! Давайте сначала отмасштабируем признаки одним из способов, а только потом будем удалять признаки.\n",
    "\n",
    "Кстати, в таком случае надо пересчитать качество на всех признаках (сделайте это ниже). Если вы сделали нормирование признаков в самом начале, то попробуйте отобрать признаки на неотмасштабированных данных.\n",
    "\n",
    "Что получилось?"
   ]
  },
  {
   "cell_type": "code",
   "execution_count": 61,
   "metadata": {
    "id": "qXytEuBgP75h"
   },
   "outputs": [],
   "source": [
    "#your code here"
   ]
  },
  {
   "cell_type": "markdown",
   "metadata": {
    "id": "OLZJRpxjP75h"
   },
   "source": [
    "Вопрос на засыпку: one-hot кодирование возвращает нам единичные признаки-индикаторы. Попробуйте также отскалировать их, как и обычные числовые, и снова выбрать 40 главных по вкладу признаков. Изменился ли их список? Изменится ли качество?"
   ]
  },
  {
   "cell_type": "code",
   "execution_count": 118,
   "metadata": {
    "id": "VpGE8ll5P75h"
   },
   "outputs": [],
   "source": [
    "#your code here"
   ]
  },
  {
   "cell_type": "markdown",
   "metadata": {
    "id": "3nK78Ag2P75i"
   },
   "source": [
    "#### __Задание 10. Методы фильтрации (0.5 балла)__\n",
    "\n",
    "\n",
    "Давайте отбирать признаки умнее, а именно через подсчёт некоторой функции для каждого признака. На основании значений этой функции будем оставлять наиболее важные признаки. Методы этого семейства называют фильтрующими или  filter methods.\n",
    "\n",
    "В качестве такой функции будем считать t-статистику:\n",
    "\n",
    "$$t(j) = \\frac{|\\mu_+ - \\mu_-|}{\\sqrt{\\frac{n_+ \\sigma^2_+ + n_- \\sigma^2_-}{n_+ + n_-}}},$$\n",
    "\n",
    "где $\\mu$, $\\sigma$, $n$ соответственно среднее, стандартное отклонение и количество объектов каждого из классов.\n",
    "\n",
    "Оставьте 40 признаков с наибольшим значением $t$, замерьте качество и скорость отбора признаков.\n",
    "\n"
   ]
  },
  {
   "cell_type": "code",
   "execution_count": 119,
   "metadata": {
    "id": "0snv1D-hP75i"
   },
   "outputs": [],
   "source": [
    "#your code here"
   ]
  },
  {
   "cell_type": "markdown",
   "metadata": {
    "id": "zO63RNCLP75i"
   },
   "source": [
    "#### __Задание 11. Методы-обёртки__ (1 балл)\n",
    "\n",
    "Третий из рассматриваемых нами методов работает следующим образом: мы исключаем по очереди один из признаков и смотрим, как это влияет на качество. Удаляем признаки таким жадным способом, пока не окажется выполненым некоторое условие (количество признаков или ухудшение качества). Более конкретно, на каждом шаге мы будем удалять такой признак $j$, что качество модели на множестве оставшихся признаков без $j$ максимально, то есть удалять мы будем наиболее бесполезный признак.\n",
    "\n",
    "Заметим, что нельзя оценивать качество по тестовой выборке, иначе мы можем переобучиться, как, например, при настройке гиперпараметров. Разделите обучающую выборку на 2 части, на одной из них обучайте модель без одного из признаков,  на второй части оценивайте качество. Исходную тестовую выборку стоит использовать только для финальной оценки качества.\n",
    "\n",
    "Снова оставьте только 40 признаков и оцените качество на тестовой выборке. Сколько времени занял такой отбор признаков?"
   ]
  },
  {
   "cell_type": "code",
   "execution_count": 215,
   "metadata": {
    "id": "ISGdzDQQP75j"
   },
   "outputs": [],
   "source": [
    "X_train_new, X_val, y_train_new, y_val= train_test_split(X_train, y_train, test_size=0.2, random_state=777, stratify=y_train)"
   ]
  },
  {
   "cell_type": "code",
   "execution_count": 216,
   "metadata": {},
   "outputs": [],
   "source": [
    "column_transformer = ColumnTransformer([\n",
    "    ('ohe', OneHotEncoder(), categorical_features),\n",
    "    ('scaling', StandardScaler(), numeric_features)\n",
    "])"
   ]
  },
  {
   "cell_type": "code",
   "execution_count": 217,
   "metadata": {},
   "outputs": [],
   "source": [
    "X_train_new_scaled = column_transformer.fit_transform(X_train_new)\n",
    "X_val_scaled = column_transformer.transform(X_val)\n",
    "X_test_scaled = column_transformer.transform(X_test)\n",
    "\n",
    "logreg = LogisticRegression(max_iter=100000, random_state=42).fit(X_train_new_scaled, y_train_new)"
   ]
  },
  {
   "cell_type": "markdown",
   "metadata": {
    "id": "1AEL4z61P75j"
   },
   "source": [
    "Стоит отметить, что с помощью такого метода можно пойти и в обратную сторону. Попробуйте _добавлять_ по одному самому полезному признаку в выборку до тех пор, пока не наберется 40 штук. Найдется ли порог, при котором добавление следующих признаков будет только ухудшать качество модели?"
   ]
  },
  {
   "cell_type": "code",
   "execution_count": 224,
   "metadata": {
    "id": "ZzF8TzVFP75j"
   },
   "outputs": [
    {
     "name": "stdout",
     "output_type": "stream",
     "text": [
      "Время отбора составило 32 минут\n"
     ]
    }
   ],
   "source": [
    "quality = []\n",
    "test_quality = []\n",
    "idx_best = [i for i in range(X_train_new_scaled.shape[1])]\n",
    "\n",
    "start = time.process_time() \n",
    "\n",
    "while len(idx_best) > 40:\n",
    "    quality = []\n",
    "    for i in idx_best:\n",
    "        new_list = idx_best[:] \n",
    "        new_list.remove(i) \n",
    "        \n",
    "        new_logreg = LogisticRegression(max_iter=100000, random_state=42)\n",
    "        new_logreg.fit(X_train_new_scaled[:, new_list], y_train_new)\n",
    "        y_pred = new_logreg.decision_function(X_val_scaled[:, new_list])\n",
    "        auc_pr_value = AUC_PR(y_val, y_pred)\n",
    "        quality.append(auc_pr_value)\n",
    "        \n",
    "    bad_idx = np.argmax(quality)\n",
    "    idx_best.remove(idx_best[bad_idx])\n",
    "    \n",
    "    test_logreg = LogisticRegression(max_iter=100000, random_state=42)\n",
    "    test_logreg.fit(X_train_new_scaled[:, idx_best], y_train_new)\n",
    "    y_pred = test_logreg.decision_function(X_test_scaled[:, idx_best])\n",
    "    auc_pr_value = AUC_PR(y_test, y_pred)\n",
    "    test_quality.append(auc_pr_value)\n",
    "    \n",
    "    \n",
    "        \n",
    "finish = time.process_time()\n",
    "delta = finish - start\n",
    "\n",
    "\n",
    "print(\"Время отбора составило {} минут\".format(round(delta /60)) )"
   ]
  },
  {
   "cell_type": "code",
   "execution_count": 227,
   "metadata": {},
   "outputs": [
    {
     "name": "stdout",
     "output_type": "stream",
     "text": [
      "Качество (AUC-PR) после составило: 0.76393\n"
     ]
    }
   ],
   "source": [
    "test_logreg = LogisticRegression(max_iter=100000, random_state=42)\n",
    "test_logreg.fit(X_train_new_scaled[:, idx_best], y_train_new)\n",
    "y_pred = test_logreg.decision_function(X_test_scaled[:, idx_best])\n",
    "auc_pr_value = AUC_PR(y_test, y_pred)\n",
    "\n",
    "print('Качество (AUC-PR) после составило:', round(auc_pr_value, 5))"
   ]
  },
  {
   "cell_type": "code",
   "execution_count": 228,
   "metadata": {},
   "outputs": [],
   "source": [
    "column_transformer = ColumnTransformer([\n",
    "    ('ohe', OneHotEncoder(), categorical_features),\n",
    "    ('scaling', StandardScaler(), numeric_features)\n",
    "])\n",
    "\n",
    "X_train_new_scaled = column_transformer.fit_transform(X_train_new)\n",
    "X_val_scaled = column_transformer.transform(X_val)\n",
    "X_test_scaled = column_transformer.transform(X_test)\n",
    "\n",
    "logreg = LogisticRegression(max_iter=100000, random_state=13).fit(X_train_new_scaled, y_train_new)"
   ]
  },
  {
   "cell_type": "code",
   "execution_count": 231,
   "metadata": {},
   "outputs": [
    {
     "name": "stdout",
     "output_type": "stream",
     "text": [
      "Время отбора составило 24 минут\n"
     ]
    }
   ],
   "source": [
    "quality = []\n",
    "test_quality = []\n",
    "idx_best = []\n",
    "all_features = [i for i in range(X_train_new_scaled.shape[1])]\n",
    "\n",
    "start = time.process_time()  \n",
    "\n",
    "while len(idx_best) < 40:\n",
    "    quality = []\n",
    "    for i in all_features:\n",
    "        new_list = all_features[:]\n",
    "        new_list.remove(i)  \n",
    "        \n",
    "        new_logreg = LogisticRegression(max_iter=100000, random_state=42)\n",
    "        new_logreg.fit(X_train_new_scaled[:, new_list], y_train_new)\n",
    "        y_pred = new_logreg.decision_function(X_val_scaled[:, new_list])\n",
    "        auc_pr_values = AUC_PR(y_val, y_pred)\n",
    "\n",
    "        quality.append(auc_pr_values)\n",
    "        \n",
    "    good_idx = np.argmin(quality) \n",
    "    idx_best.append(all_features[good_idx])     \n",
    "    all_features.remove(all_features[good_idx])\n",
    "    \n",
    "    test_logreg = LogisticRegression(max_iter=100000, random_state=42)\n",
    "    test_logreg.fit(X_train_new_scaled[:, idx_best], y_train_new)\n",
    "    y_pred = test_logreg.decision_function(X_test_scaled[:, idx_best])\n",
    "    auc_pr_values = AUC_PR(y_test, y_pred)\n",
    "    test_quality.append(auc_pr_values)\n",
    "\n",
    "finish = time.process_time()\n",
    "delta = finish - start\n",
    "\n",
    "print(\"Время отбора составило {} минут\".format(round(delta /60)) )"
   ]
  },
  {
   "cell_type": "code",
   "execution_count": 234,
   "metadata": {
    "scrolled": true
   },
   "outputs": [
    {
     "name": "stdout",
     "output_type": "stream",
     "text": [
      "Качество (AUC-PR) после составило: 0.66953\n"
     ]
    }
   ],
   "source": [
    "test_logreg = LogisticRegression(max_iter=100000, random_state=42)\n",
    "test_logreg.fit(X_train_new_scaled[:, idx_best], y_train_new)\n",
    "y_pred = test_logreg.decision_function(X_test_scaled[:, idx_best])\n",
    "auc_pr_values_final = AUC_PR(y_test, y_pred)\n",
    "\n",
    "print('Качество (AUC-PR) после составило:', round(auc_pr_values_final, 5))"
   ]
  },
  {
   "cell_type": "markdown",
   "metadata": {
    "id": "wj6a-BERP75j"
   },
   "source": [
    "Давайте подведём итоги по отбору признаков. Назовите преимущества и недостатки каждого из методов. Какой метод привёл к наилучшему качеству?\n",
    "\n",
    "**Ответ:** Первый алгоритм оказался лучше (примерно на на 1 сотую), чем второй, хоть и работал чуть дольше (примерно на 8 минут). Мысли по чему так:\n",
    " - Шкалирование признаков и так работает весьма эффективно\n",
    " - Именно one-hot кодирование дало лучшие результаты, хотя и долговато - нас спасало, что данные не столь большы и не так много категорий\n",
    "Методы обертки в общем работают очень долго (~не позволительно с точки зрения дедлайна в 23.59~)"
   ]
  },
  {
   "cell_type": "markdown",
   "metadata": {
    "id": "zrR06pp7P75k"
   },
   "source": [
    "# Часть 4. Оценка экономического эффекта модели (2 балла)\n",
    "\n"
   ]
  },
  {
   "cell_type": "markdown",
   "metadata": {
    "id": "CmgOdf7GT3uh"
   },
   "source": [
    "В данной части мы займемся тем, что от вас скорее всего потребуется на реальной работе (помимо перекладки `json`, разумеется). А именно:\n",
    "- мы соберем несколько специализированных метрик качества,\n",
    "- попытаемся настроить модель на максимизацию _прибыли_,\n",
    "- оценим, сколько вообще получится заработать на этом.\n",
    "\n",
    "Разумеется, здесь будет сделано множество упрощающих жизнь допущений, но обо всем по порядку. Если вы всё прослушали на экономике, то напомним, что выручка — это сколько денег нам принесли клиенты, а прибыль — выручка за вычетом расходов на зарплату и прочее."
   ]
  },
  {
   "cell_type": "markdown",
   "metadata": {
    "id": "NQkW5Xh6yip2"
   },
   "source": [
    "\n",
    "#### __Задание 12. Прогноз по доходам и расходам__ (1 балл)\n",
    "\n",
    "В этой части мы будем работать с данными [UCI Bank Marketing Dataset](https://archive.ics.uci.edu/ml/datasets/bank+marketing). Этот датасет содержит информацию о банковском телефонном маркетинге.\n",
    "\n",
    "__Объектом__ здесь является телефонный звонок потенциальному клиенту с предложением некоторой услуги (утверждается, что это краткосрочный депозит). В качестве признакового описания используются характеристики клиента (образование, брак и т.д.), данные о звонке и различные экономические индикаторы - более подробная информация представлена в файле `bank-additional-names.txt`.\n",
    "__Целевая переменная__ - ответ клиента (согласился ли он открыть депозит?)"
   ]
  },
  {
   "cell_type": "code",
   "execution_count": 72,
   "metadata": {
    "id": "e9WBqQd1aAjp"
   },
   "outputs": [],
   "source": [
    "# !wget https://archive.ics.uci.edu/ml/machine-learning-databases/00222/bank-additional.zip\n",
    "# !unzip bank-additional.zip\n",
    "# скачал руками\n",
    "df = pd.read_csv('bank-additional-full.csv', sep=';')"
   ]
  },
  {
   "cell_type": "code",
   "execution_count": 73,
   "metadata": {
    "id": "Gbw5k7lMaYT1"
   },
   "outputs": [
    {
     "data": {
      "text/html": [
       "<div>\n",
       "<style scoped>\n",
       "    .dataframe tbody tr th:only-of-type {\n",
       "        vertical-align: middle;\n",
       "    }\n",
       "\n",
       "    .dataframe tbody tr th {\n",
       "        vertical-align: top;\n",
       "    }\n",
       "\n",
       "    .dataframe thead th {\n",
       "        text-align: right;\n",
       "    }\n",
       "</style>\n",
       "<table border=\"1\" class=\"dataframe\">\n",
       "  <thead>\n",
       "    <tr style=\"text-align: right;\">\n",
       "      <th></th>\n",
       "      <th>age</th>\n",
       "      <th>job</th>\n",
       "      <th>marital</th>\n",
       "      <th>education</th>\n",
       "      <th>default</th>\n",
       "      <th>housing</th>\n",
       "      <th>loan</th>\n",
       "      <th>contact</th>\n",
       "      <th>month</th>\n",
       "      <th>day_of_week</th>\n",
       "      <th>duration</th>\n",
       "      <th>campaign</th>\n",
       "      <th>pdays</th>\n",
       "      <th>previous</th>\n",
       "      <th>poutcome</th>\n",
       "      <th>emp.var.rate</th>\n",
       "      <th>cons.price.idx</th>\n",
       "      <th>cons.conf.idx</th>\n",
       "      <th>euribor3m</th>\n",
       "      <th>nr.employed</th>\n",
       "      <th>y</th>\n",
       "    </tr>\n",
       "  </thead>\n",
       "  <tbody>\n",
       "    <tr>\n",
       "      <th>0</th>\n",
       "      <td>56</td>\n",
       "      <td>housemaid</td>\n",
       "      <td>married</td>\n",
       "      <td>basic.4y</td>\n",
       "      <td>no</td>\n",
       "      <td>no</td>\n",
       "      <td>no</td>\n",
       "      <td>telephone</td>\n",
       "      <td>may</td>\n",
       "      <td>mon</td>\n",
       "      <td>261</td>\n",
       "      <td>1</td>\n",
       "      <td>999</td>\n",
       "      <td>0</td>\n",
       "      <td>nonexistent</td>\n",
       "      <td>1.1</td>\n",
       "      <td>93.994</td>\n",
       "      <td>-36.4</td>\n",
       "      <td>4.857</td>\n",
       "      <td>5191.0</td>\n",
       "      <td>no</td>\n",
       "    </tr>\n",
       "    <tr>\n",
       "      <th>1</th>\n",
       "      <td>57</td>\n",
       "      <td>services</td>\n",
       "      <td>married</td>\n",
       "      <td>high.school</td>\n",
       "      <td>unknown</td>\n",
       "      <td>no</td>\n",
       "      <td>no</td>\n",
       "      <td>telephone</td>\n",
       "      <td>may</td>\n",
       "      <td>mon</td>\n",
       "      <td>149</td>\n",
       "      <td>1</td>\n",
       "      <td>999</td>\n",
       "      <td>0</td>\n",
       "      <td>nonexistent</td>\n",
       "      <td>1.1</td>\n",
       "      <td>93.994</td>\n",
       "      <td>-36.4</td>\n",
       "      <td>4.857</td>\n",
       "      <td>5191.0</td>\n",
       "      <td>no</td>\n",
       "    </tr>\n",
       "    <tr>\n",
       "      <th>2</th>\n",
       "      <td>37</td>\n",
       "      <td>services</td>\n",
       "      <td>married</td>\n",
       "      <td>high.school</td>\n",
       "      <td>no</td>\n",
       "      <td>yes</td>\n",
       "      <td>no</td>\n",
       "      <td>telephone</td>\n",
       "      <td>may</td>\n",
       "      <td>mon</td>\n",
       "      <td>226</td>\n",
       "      <td>1</td>\n",
       "      <td>999</td>\n",
       "      <td>0</td>\n",
       "      <td>nonexistent</td>\n",
       "      <td>1.1</td>\n",
       "      <td>93.994</td>\n",
       "      <td>-36.4</td>\n",
       "      <td>4.857</td>\n",
       "      <td>5191.0</td>\n",
       "      <td>no</td>\n",
       "    </tr>\n",
       "    <tr>\n",
       "      <th>3</th>\n",
       "      <td>40</td>\n",
       "      <td>admin.</td>\n",
       "      <td>married</td>\n",
       "      <td>basic.6y</td>\n",
       "      <td>no</td>\n",
       "      <td>no</td>\n",
       "      <td>no</td>\n",
       "      <td>telephone</td>\n",
       "      <td>may</td>\n",
       "      <td>mon</td>\n",
       "      <td>151</td>\n",
       "      <td>1</td>\n",
       "      <td>999</td>\n",
       "      <td>0</td>\n",
       "      <td>nonexistent</td>\n",
       "      <td>1.1</td>\n",
       "      <td>93.994</td>\n",
       "      <td>-36.4</td>\n",
       "      <td>4.857</td>\n",
       "      <td>5191.0</td>\n",
       "      <td>no</td>\n",
       "    </tr>\n",
       "    <tr>\n",
       "      <th>4</th>\n",
       "      <td>56</td>\n",
       "      <td>services</td>\n",
       "      <td>married</td>\n",
       "      <td>high.school</td>\n",
       "      <td>no</td>\n",
       "      <td>no</td>\n",
       "      <td>yes</td>\n",
       "      <td>telephone</td>\n",
       "      <td>may</td>\n",
       "      <td>mon</td>\n",
       "      <td>307</td>\n",
       "      <td>1</td>\n",
       "      <td>999</td>\n",
       "      <td>0</td>\n",
       "      <td>nonexistent</td>\n",
       "      <td>1.1</td>\n",
       "      <td>93.994</td>\n",
       "      <td>-36.4</td>\n",
       "      <td>4.857</td>\n",
       "      <td>5191.0</td>\n",
       "      <td>no</td>\n",
       "    </tr>\n",
       "  </tbody>\n",
       "</table>\n",
       "</div>"
      ],
      "text/plain": [
       "   age        job  marital    education  default housing loan    contact  \\\n",
       "0   56  housemaid  married     basic.4y       no      no   no  telephone   \n",
       "1   57   services  married  high.school  unknown      no   no  telephone   \n",
       "2   37   services  married  high.school       no     yes   no  telephone   \n",
       "3   40     admin.  married     basic.6y       no      no   no  telephone   \n",
       "4   56   services  married  high.school       no      no  yes  telephone   \n",
       "\n",
       "  month day_of_week  duration  campaign  pdays  previous     poutcome  \\\n",
       "0   may         mon       261         1    999         0  nonexistent   \n",
       "1   may         mon       149         1    999         0  nonexistent   \n",
       "2   may         mon       226         1    999         0  nonexistent   \n",
       "3   may         mon       151         1    999         0  nonexistent   \n",
       "4   may         mon       307         1    999         0  nonexistent   \n",
       "\n",
       "   emp.var.rate  cons.price.idx  cons.conf.idx  euribor3m  nr.employed   y  \n",
       "0           1.1          93.994          -36.4      4.857       5191.0  no  \n",
       "1           1.1          93.994          -36.4      4.857       5191.0  no  \n",
       "2           1.1          93.994          -36.4      4.857       5191.0  no  \n",
       "3           1.1          93.994          -36.4      4.857       5191.0  no  \n",
       "4           1.1          93.994          -36.4      4.857       5191.0  no  "
      ]
     },
     "execution_count": 73,
     "metadata": {},
     "output_type": "execute_result"
    }
   ],
   "source": [
    "df.head()"
   ]
  },
  {
   "cell_type": "code",
   "execution_count": 74,
   "metadata": {
    "id": "qmxCn_Pz3kJB"
   },
   "outputs": [],
   "source": [
    "X = df.drop(columns=['duration', 'y'])\n",
    "y = (df.y == 'yes')"
   ]
  },
  {
   "cell_type": "markdown",
   "metadata": {
    "id": "lMKgtxfwaBEQ"
   },
   "source": [
    "В этой части не нужно делить выборку - мы будем использовать кросс-валидацию.  Используйте 5 фолдов, сделайте `shuffle=True, random_state=500`. По кросс-валидации у вас получится 5 вариантов обучающей и тестовой выборки."
   ]
  },
  {
   "cell_type": "code",
   "execution_count": 75,
   "metadata": {
    "id": "xYPjtfnqP75k"
   },
   "outputs": [],
   "source": [
    "from sklearn.model_selection import StratifiedKFold\n",
    "from sklearn.metrics import precision_score\n",
    "\n",
    "skf = StratifiedKFold(n_splits=5, shuffle=True, random_state=500)"
   ]
  },
  {
   "cell_type": "markdown",
   "metadata": {
    "id": "YIX-omTIyxtU"
   },
   "source": [
    "Обучите логистическую регрессию на каждой обучающей выборке (воспользуйтесь one-hot для категориальных признаков и `StandardScaler` для числовых, гиперпараметры по умолчанию) и сделайте предсказания для соответствующих тестовых выборок."
   ]
  },
  {
   "cell_type": "code",
   "execution_count": 76,
   "metadata": {
    "id": "5V3f4cQryx6c",
    "scrolled": true
   },
   "outputs": [],
   "source": [
    "categorical_features = list(X.dtypes[X.dtypes == \"object\"].index)\n",
    "numeric_features = list(X.dtypes[(X.dtypes == \"int64\") | (X.dtypes == \"float64\")].index)\n",
    "\n",
    "\n",
    "column_transformer = ColumnTransformer([\n",
    "    ('ohe', OneHotEncoder(), categorical_features),\n",
    "    ('scaling', StandardScaler(), numeric_features)\n",
    "])\n",
    "\n",
    "pipeline = Pipeline(steps=[\n",
    "    ('ohe_and_scaling', column_transformer),\n",
    "    ('regression', LogisticRegression(max_iter=100000, random_state=42))\n",
    "])"
   ]
  },
  {
   "cell_type": "code",
   "execution_count": 77,
   "metadata": {},
   "outputs": [],
   "source": [
    "metrics = []\n",
    "\n",
    "for train_index, test_index in skf.split(X, y):\n",
    "    X_train, X_test = X.loc[train_index], X.loc[test_index]\n",
    "    y_train, y_test = y[train_index], y[test_index]\n",
    "\n",
    "    model = pipeline.fit(X_train, y_train)\n",
    "    y_pred = model.decision_function(X_test)\n",
    "    auc_pr_logreg = AUC_PR(y_test, y_pred)\n",
    "\n",
    "    metrics.append(auc_pr_logreg)"
   ]
  },
  {
   "cell_type": "code",
   "execution_count": 78,
   "metadata": {},
   "outputs": [
    {
     "name": "stdout",
     "output_type": "stream",
     "text": [
      "[0.4558002846362144, 0.45139198424272886, 0.41615814932931133, 0.4692382692160719, 0.4636211408671181]\n"
     ]
    }
   ],
   "source": [
    "print(metrics)"
   ]
  },
  {
   "cell_type": "markdown",
   "metadata": {
    "id": "CcuHfZjfzmnt"
   },
   "source": [
    "Допустим, работники вашего колл-центра получают за один звонок клиенту 1 доллар. При согласии клиента на предлагаемые условия он принесет в банк 10 долларов. Предположим, что всем положительным прогнозам ваши сотрудники решили позвонить. Посчитайте на всех тестовых выборках выручку и усредните. Также вычислите стандартное отклонение.\n",
    "- Сколько денег вы в среднем заработаете?\n",
    "- Сколько из заработанных денег придётся отдать операторам вашего колл-центра?"
   ]
  },
  {
   "cell_type": "code",
   "execution_count": 80,
   "metadata": {
    "id": "0okqAh-AzWTX"
   },
   "outputs": [],
   "source": [
    "profit =[]\n",
    "call_operator = []\n",
    "\n",
    "for train_index, test_index in skf.split(X, y):\n",
    "    X_train, X_test = X.loc[train_index], X.loc[test_index]\n",
    "    y_train, y_test = y[train_index], y[test_index]\n",
    "\n",
    "    model = pipeline.fit(X_train, y_train)\n",
    "    y_pred = model.predict(X_test)\n",
    "    precision = precision_score(y_test, y_pred)\n",
    "    profit.append(precision * y_pred.sum() * 10)\n",
    "    call_operator.append(y_pred.sum())\n",
    "    \n"
   ]
  },
  {
   "cell_type": "code",
   "execution_count": 96,
   "metadata": {},
   "outputs": [
    {
     "name": "stdout",
     "output_type": "stream",
     "text": [
      "Средняя выручка:  2138.0\n",
      "Стандартное отклонение выручки: 183.782\n",
      "В среднем нужно отдать операторам колл центра:  324.4\n",
      "Стандартное отклонение выплат операторам 19.694\n",
      "Выручка операторам по фолдам [321, 339, 288, 343, 331]\n",
      "Остаток 1813.6\n"
     ]
    }
   ],
   "source": [
    "print(\"Средняя выручка: \", np.mean(profit))\n",
    "print(\"Стандартное отклонение выручки:\", round(np.std(profit), 3) )\n",
    "print(\"В среднем нужно отдать операторам колл центра: \", np.mean(call_operator))\n",
    "print(\"Стандартное отклонение выплат операторам\", round(np.std(call_operator), 3))\n",
    "print(\"Выручка операторам по фолдам\", call_operator)\n",
    "print(\"Остаток\", np.mean(profit) -  np.mean(np.mean(call_operator)))"
   ]
  },
  {
   "cell_type": "markdown",
   "metadata": {
    "id": "Da1x6u6wP75k"
   },
   "source": [
    "Внесем некоторую долю случайности. Пусть теперь согласный на условия клиент будет приносить не 10 долларов, а случайную величину, равномерно распределенную в интервале $[0;20)$. Проделайте все те же самые действия. Для имитации реальной ситуации **НЕ** фиксируйте `random_seed` при подсчете выручки с клиента. Что получилось?"
   ]
  },
  {
   "cell_type": "code",
   "execution_count": 92,
   "metadata": {
    "id": "0AKmJpRAP75k"
   },
   "outputs": [],
   "source": [
    "import random \n",
    "\n",
    "profit1 =[]\n",
    "call_operator1 = []\n",
    "\n",
    "for train_index, test_index in skf.split(X, y):\n",
    "    X_train, X_test = X.loc[train_index], X.loc[test_index]\n",
    "    y_train, y_test = y[train_index], y[test_index]\n",
    "\n",
    "    model = pipeline.fit(X_train, y_train)\n",
    "    y_pred = model.predict(X_test)\n",
    "    precision = precision_score(y_test, y_pred)\n",
    "    with_random = y_pred.astype(int) * np.random.uniform(0, 20, len(y_pred))\n",
    "    \n",
    "    profit1.append(precision * with_random.sum())\n",
    "    call_operator1.append(y_pred.sum())\n",
    "    "
   ]
  },
  {
   "cell_type": "code",
   "execution_count": 95,
   "metadata": {
    "scrolled": false
   },
   "outputs": [
    {
     "name": "stdout",
     "output_type": "stream",
     "text": [
      "Средняя выручка:  2128.042624186571\n",
      "Стандартное отклонение выручки: 177.111\n",
      "В среднем нужно отдать операторам колл центра:  324.4\n",
      "Стандартное отклонение выплат операторам 19.694\n",
      "Выручка операторам по фолдам [321, 339, 288, 343, 331]\n",
      "Остаток 1803.642624186571\n"
     ]
    }
   ],
   "source": [
    "print(\"Средняя выручка: \", np.mean(profit1))\n",
    "print(\"Стандартное отклонение выручки:\", round(np.std(profit1), 3) )\n",
    "print(\"В среднем нужно отдать операторам колл центра: \", np.mean(call_operator1))\n",
    "print(\"Стандартное отклонение выплат операторам\", round(np.std(call_operator1), 3))\n",
    "print(\"Выручка операторам по фолдам\", call_operator1)\n",
    "print(\"Остаток\", np.mean(profit1) -  np.mean(np.mean(call_operator1)))"
   ]
  },
  {
   "cell_type": "markdown",
   "metadata": {},
   "source": [
    "Средние значения не сильно поменялись, больше измнений у стандарнтого отклонения. Это связано, с тем, что значения в фолдах довольно сильно отличаются друг от друга."
   ]
  },
  {
   "cell_type": "markdown",
   "metadata": {
    "id": "O1g9FPExP75k"
   },
   "source": [
    "Настройте по кросс-валидации коэффициент регуляризации модели для максимизации прибыли (считайте как случайную величину выше). Удалось ли получить какой-то выигрыш? При каком коэффициенте регуляризациии прибыль максимальна? Постройте график зависимости ожидаемой прибыли от коэффициента, укажите стандартные отклонения (вам поможет `plt.errorbar`, [пример](https://jakevdp.github.io/PythonDataScienceHandbook/04.03-errorbars.html))."
   ]
  },
  {
   "cell_type": "code",
   "execution_count": 102,
   "metadata": {
    "id": "YXx7qU5PP75l"
   },
   "outputs": [],
   "source": [
    "def profit_maximization(y, y_pred):\n",
    "    precision = precision_score(y, y_pred)\n",
    "    with_random = y_pred.astype(int) * np.random.uniform(0, 20, len(y_pred))\n",
    "    profit = (precision * with_random.sum()) - y_pred.sum()\n",
    "    \n",
    "    return profit\n",
    "profit_maximization_scorer = make_scorer(profit_maximization)"
   ]
  },
  {
   "cell_type": "code",
   "execution_count": 107,
   "metadata": {},
   "outputs": [
    {
     "name": "stdout",
     "output_type": "stream",
     "text": [
      "Лучший параметр регуляризации C:  0.0013\n",
      "Лучший score на регуляризации:  1030.7187735967523\n",
      "Wall time: 56.9 s\n"
     ]
    }
   ],
   "source": [
    "%%time\n",
    "X_cv = column_transformer.fit_transform(X)\n",
    "C_variations = np.logspace(-4, 1, 10)\n",
    "searcher = GridSearchCV(LogisticRegression(max_iter=100000), [{\"C\": C_variations}], scoring=profit_maximization_scorer, cv=5)\n",
    "searcher.fit(X_cv, y)\n",
    "\n",
    "logreg_best_C = searcher.best_params_[\"C\"]\n",
    "logreg_best_score = searcher.best_score_\n",
    "print(\"Лучший параметр регуляризации C: \", round(logreg_best_C, 4))\n",
    "print(\"Лучший score на регуляризации: \", logreg_best_score)"
   ]
  },
  {
   "cell_type": "code",
   "execution_count": 116,
   "metadata": {
    "scrolled": true
   },
   "outputs": [
    {
     "data": {
      "image/png": "[encoded data removed]",
      "text/plain": [
       "<Figure size 720x576 with 1 Axes>"
      ]
     },
     "metadata": {
      "needs_background": "light"
     },
     "output_type": "display_data"
    }
   ],
   "source": [
    "std_scores =  searcher.cv_results_['std_test_score']\n",
    "\n",
    "plt.figure(figsize=(10, 8))\n",
    "plt.errorbar(C_variations, searcher.cv_results_[\"mean_test_score\"], yerr= std_scores,\n",
    "             fmt='o', color='blue',\n",
    "             ecolor='#7CB9E8', elinewidth=4, capsize=0\n",
    "            )\n",
    "\n",
    "plt.xscale(\"log\")\n",
    "plt.title(\"Зависимость ожидаемой прибыли от \\nкоэффициента регуляризации C\", fontsize = 14, fontweight='bold')\n",
    "plt.xlabel('Значения параметра регуляризации',  fontsize=12, fontweight=\"bold\")\n",
    "plt.ylabel(\"Скор на кросс-валидации (прибыль)\",  fontsize=12, fontweight=\"bold\");\n"
   ]
  },
  {
   "cell_type": "markdown",
   "metadata": {},
   "source": [
    "Доигрались, местами мы уходим в минус, хоть и  большая часть интервала положительная."
   ]
  },
  {
   "cell_type": "markdown",
   "metadata": {
    "id": "sdptRdaIP75l"
   },
   "source": [
    "Попробуйте запустить перебор несколько раз. Находится ли каждый раз один и тот же \"лучший\" коэффициент? Присутствует ли какая-то закономерность? Какие вы можете сделать из этого выводы?"
   ]
  },
  {
   "cell_type": "code",
   "execution_count": 123,
   "metadata": {
    "id": "inD5UMbGP75l"
   },
   "outputs": [
    {
     "name": "stdout",
     "output_type": "stream",
     "text": [
      "Wall time: 5min 12s\n"
     ]
    }
   ],
   "source": [
    "%%time\n",
    "best_params = []\n",
    "best_scores = []\n",
    "\n",
    "for _ in range(10):\n",
    "    searcher = GridSearchCV(LogisticRegression(max_iter=100000), [{\"C\": C_variations}], scoring=profit_maximization_scorer, cv=5)\n",
    "    searcher.fit(X_cv, y)\n",
    "\n",
    "    logreg_best_C = searcher.best_params_[\"C\"]\n",
    "    best_params.append(logreg_best_C )\n",
    "   \n",
    "\n",
    "    best_reg_score = searcher.best_score_\n",
    "    best_scores.append(best_reg_score)"
   ]
  },
  {
   "cell_type": "code",
   "execution_count": 124,
   "metadata": {},
   "outputs": [
    {
     "data": {
      "text/plain": [
       "[0.001291549665014884,\n",
       " 0.001291549665014884,\n",
       " 0.001291549665014884,\n",
       " 0.001291549665014884,\n",
       " 0.001291549665014884,\n",
       " 0.001291549665014884,\n",
       " 0.001291549665014884,\n",
       " 0.001291549665014884,\n",
       " 0.001291549665014884,\n",
       " 0.001291549665014884]"
      ]
     },
     "execution_count": 124,
     "metadata": {},
     "output_type": "execute_result"
    }
   ],
   "source": [
    "best_params"
   ]
  },
  {
   "cell_type": "code",
   "execution_count": 125,
   "metadata": {
    "scrolled": true
   },
   "outputs": [
    {
     "data": {
      "text/plain": [
       "[1006.0994459044089,\n",
       " 1024.8101916884475,\n",
       " 1044.5227527075333,\n",
       " 1039.5564548565105,\n",
       " 1045.5564035931807,\n",
       " 1055.0067384834235,\n",
       " 1022.9219887054882,\n",
       " 1060.4242725078445,\n",
       " 1008.2101609219965,\n",
       " 1018.7208733072797]"
      ]
     },
     "execution_count": 125,
     "metadata": {},
     "output_type": "execute_result"
    }
   ],
   "source": [
    "best_scores"
   ]
  },
  {
   "cell_type": "markdown",
   "metadata": {},
   "source": [
    "Сложно увидеть различия между параметрами регуляризации, все примерно равно 0.0013. Скор тоже не сильно меняется, логично, так как логистической регресси не свойственно переобучение"
   ]
  },
  {
   "cell_type": "markdown",
   "metadata": {
    "id": "J0j8HubaP75l"
   },
   "source": [
    "#### __Задание 13. Ключевая метрика__ (1 балл)\n",
    "\n",
    "Выше мы уже описали примерную экономическую модель вашей задачи. Как вы считаете, что для вашего бизнеса важнее — хороший precision или recall модели? Почему?\n",
    "\n",
    "__Ответ:__ Скорее важен recall (полнота), чем precision, так как цена ошибки не так страшна, нужно отловить как можно больше объектов положительного класса\n",
    "\n"
   ]
  },
  {
   "cell_type": "markdown",
   "metadata": {
    "id": "4LFRNnrtP75m"
   },
   "source": [
    "> Вспомним, что на самом деле логистическая регрессия предсказывает нам вероятности положительного класса для объекта. Возможно, путем настройки __порога бинаризации__ этих вероятностей мы сможем получить какой-то выигрыш?\n",
    "\n",
    "Проверьте ваши рассуждения выше с помощью настройки порога бинаризации на кросс-валидации для максимизации прибыли. Воспользуйтесь сеткой от 0 до 1 с шагом 0.01. Напомним, что снижение порога дает нам более высокий recall и более низкий precision, и наоборот."
   ]
  },
  {
   "cell_type": "code",
   "execution_count": 120,
   "metadata": {
    "id": "3ALl1YeBP75m"
   },
   "outputs": [],
   "source": [
    "%%time\n",
    "from sklearn.metrics import recall_score\n",
    "\n",
    "grid = np.arange(0.0, 1.0, 0.01)\n",
    "recalls_cv = []\n",
    "X_cv = column_transformer.fit_transform(X)\n",
    "\n",
    "for train_index, test_index in skf.split(X, y):\n",
    "    recall_list = []\n",
    "    for border in grid:\n",
    "        X_train, X_test = X.loc[train_index], X.loc[test_index]\n",
    "        y_train, y_test = y[train_index], y[test_index]\n",
    "\n",
    "        X_train = column_transformer.fit_transform(X_train)\n",
    "        X_test = column_transformer.transform(X_test)\n",
    "        \n",
    "        logreg = LogisticRegression(C=logreg_best_C, max_iter=100000, random_state=42).fit(X_train, y_train)\n",
    "        \n",
    "        probs = logreg.predict_proba(X_test)[:, 1]\n",
    "        preds = np.array([1 if i > border else 0 for i in probs])\n",
    "        \n",
    "        recall = recall_score(y_test, preds)\n",
    "        recall_list.append(recall)\n",
    "    recalls_cv.append(recall_list)"
   ]
  },
  {
   "cell_type": "markdown",
   "metadata": {
    "id": "fLL7uqb2P75m"
   },
   "source": [
    "Постройте график зависимости прибыли от порога бинаризации, также отметьте на нем стандартные отклонения. Выделите наилучший порог.\n",
    "\n",
    "\n"
   ]
  },
  {
   "cell_type": "code",
   "execution_count": 127,
   "metadata": {
    "id": "K2D3BkVsP75m"
   },
   "outputs": [],
   "source": [
    "mean_cv = []\n",
    "std_cv = []\n",
    "for i in range(len(recalls_cv[0])):\n",
    "    sum = 0\n",
    "    recall_values = []\n",
    "    for j in range(len(recalls_cv)):\n",
    "        recall_values.append(recalls_cv[j][i])\n",
    "    mean = np.mean(np.array(recall_values))\n",
    "    std = np.std(np.array(recall_values))\n",
    "    mean_cv.append(mean)\n",
    "    std_cv.append(std)"
   ]
  },
  {
   "cell_type": "code",
   "execution_count": 142,
   "metadata": {
    "scrolled": true
   },
   "outputs": [
    {
     "data": {
      "image/png": "[encoded data removed]",
      "text/plain": [
       "<Figure size 720x576 with 1 Axes>"
      ]
     },
     "metadata": {
      "needs_background": "light"
     },
     "output_type": "display_data"
    }
   ],
   "source": [
    "plt.figure(figsize=(10, 8))\n",
    "plt.errorbar(grid, mean_cv, yerr=std_cv, fmt='o', color='black',\n",
    "             ecolor='#F08080', elinewidth=2, capsize=0)\n",
    "\n",
    "plt.title(\"Зависимость recall от порога бинаризации\", fontsize = 14, fontweight='bold')\n",
    "plt.ylabel(\"Значение recall\",  fontsize = 12, fontweight = 'bold')\n",
    "plt.xlabel( \"Порог бинаризации\", fontsize = 12, fontweight = 'bold');"
   ]
  },
  {
   "cell_type": "code",
   "execution_count": 137,
   "metadata": {
    "scrolled": false
   },
   "outputs": [
    {
     "name": "stdout",
     "output_type": "stream",
     "text": [
      "[0.21 0.22 0.23 0.24 0.25 0.26 0.27 0.28 0.29 0.3  0.31 0.32 0.33 0.34\n",
      " 0.35 0.36 0.37 0.38 0.39 0.4  0.41 0.42 0.43 0.44 0.45 0.46 0.47 0.48\n",
      " 0.49 0.5  0.51 0.52 0.53 0.54 0.55 0.56 0.57 0.58 0.59 0.6  0.61 0.62\n",
      " 0.63 0.64 0.65 0.66 0.67 0.68 0.69 0.7  0.71 0.72 0.73 0.74 0.75 0.76\n",
      " 0.77 0.78 0.79 0.8  0.81 0.82 0.83 0.84 0.85 0.86 0.87 0.88 0.89 0.9\n",
      " 0.91 0.92 0.93 0.94 0.95 0.96 0.97 0.98 0.99]\n"
     ]
    }
   ],
   "source": [
    "print(grid[np.array(mean_cv) < 0.5])"
   ]
  },
  {
   "cell_type": "code",
   "execution_count": 186,
   "metadata": {},
   "outputs": [
    {
     "name": "stdout",
     "output_type": "stream",
     "text": [
      "Wall time: 2min 1s\n"
     ]
    }
   ],
   "source": [
    "%%time\n",
    "grid = np.arange(0.0, 1.0, 0.01)\n",
    "recalls_cv_prof = []\n",
    "X_cv = column_transformer.fit_transform(X)\n",
    "\n",
    "for train_index, test_index in skf.split(X, y):\n",
    "    recalls_cv_buf = []\n",
    "    for border in grid:\n",
    "        X_train, X_test = X.loc[train_index], X.loc[test_index]\n",
    "        y_train, y_test = y[train_index], y[test_index]\n",
    "\n",
    "        X_train = column_transformer.fit_transform(X_train)\n",
    "        X_test = column_transformer.transform(X_test)\n",
    "\n",
    "        lr = LogisticRegression(C=logreg_best_C, max_iter=100000, random_state=13).fit(X_train, y_train)\n",
    "        probs = lr.predict_proba(X_test)[:, 1]\n",
    "        preds = np.array([1 if i > border else 0 for i in probs])\n",
    "\n",
    "        score = profit_maximization(y_test, preds)\n",
    "        recalls_cv_buf.append(score)\n",
    "\n",
    "    recalls_cv_prof.append(recalls_cv_buf)"
   ]
  },
  {
   "cell_type": "code",
   "execution_count": 190,
   "metadata": {},
   "outputs": [],
   "source": [
    "grid = np.arange(0.0, 1.0, 0.01)\n",
    "recall_profit = []\n",
    "X_cv = column_transformer.fit_transform(X)\n",
    "\n",
    "for train_index, test_index in skf.split(X, y):\n",
    "    recalls_cv_values = []\n",
    "    for border in grid:\n",
    "        X_train, X_test = X.loc[train_index], X.loc[test_index]\n",
    "        y_train, y_test = y[train_index], y[test_index]\n",
    "\n",
    "        X_train = column_transformer.fit_transform(X_train)\n",
    "        X_test = column_transformer.transform(X_test)\n",
    "\n",
    "        logreg = LogisticRegression(C=logreg_best_C, max_iter=100000, random_state=13).fit(X_train, y_train)\n",
    "        probs = logreg.predict_proba(X_test)[:, 1]\n",
    "        preds = np.array([1 if i > border else 0 for i in probs])\n",
    "\n",
    "        score = profit_maximization(y_test, preds)\n",
    "        recalls_cv_values.append(score)\n",
    "\n",
    "    recall_profit.append(recalls_cv_values)"
   ]
  },
  {
   "cell_type": "code",
   "execution_count": 192,
   "metadata": {},
   "outputs": [],
   "source": [
    "mean_profit_cv = []\n",
    "std_profit_cv = []\n",
    "\n",
    "for j in range(len(recall_profit[0])):\n",
    "    recall_flatten = []\n",
    "    for i in range(len(recall_profit)):\n",
    "        recall_flatten.append(recall_profit[i][j])\n",
    "    mean = np.mean(np.array(recall_flatten))\n",
    "    std = np.std(np.array(recall_flatten))\n",
    "    mean_profit_cv.append(mean)\n",
    "    std_profit_cv.append(std)\n"
   ]
  },
  {
   "cell_type": "markdown",
   "metadata": {
    "id": "pjw2DImXXoFx"
   },
   "source": [
    "__Вопрос:__ Замечаете ли вы какую-то закономерность? Для правильного ответа на этот вопрос попробуйте запустить несколько раз и задумайтесь, почему порог получается в какой-то конкретной области?"
   ]
  },
  {
   "cell_type": "code",
   "execution_count": 195,
   "metadata": {},
   "outputs": [
    {
     "data": {
      "image/png": "[encoded data removed]",
      "text/plain": [
       "<Figure size 648x432 with 1 Axes>"
      ]
     },
     "metadata": {
      "needs_background": "light"
     },
     "output_type": "display_data"
    }
   ],
   "source": [
    "\n",
    "\n",
    "plt.figure(figsize=(9, 6))\n",
    "plt.errorbar(grid, mean_profit_cv, yerr=std_profit_cv, fmt='o', color='black',\n",
    "             ecolor='#F08080', elinewidth=2, capsize=0)\n",
    "plt.title('Зависимость ожидаемой прибыли от порога бинаризации', fontsize=14, fontweight = 'bold')\n",
    "plt.xlabel(\"Порог бинаризации\", fontsize=12, fontweight = 'bold')\n",
    "plt.ylabel(\"Прибыль\", fontsize=12, fontweight = 'bold');"
   ]
  },
  {
   "cell_type": "code",
   "execution_count": 201,
   "metadata": {},
   "outputs": [
    {
     "name": "stdout",
     "output_type": "stream",
     "text": [
      "Лучший порог равен: 0.14\n"
     ]
    }
   ],
   "source": [
    "idx = np.argmax(mean_profit_cv)\n",
    "print('Лучший порог равен:', grid[idx])"
   ]
  },
  {
   "cell_type": "markdown",
   "metadata": {},
   "source": [
    "__Ответ:__ При приближении порога бинаризации к 0.8 наша прибыль выходит на плато с нулем. А максимальное значения прибыли достигается при пороге 0.14. В то же время диапозон лежит примерно от 0.12 до 0.15. То есть на этом промежутке мы достигаем баланса между желанием учесть как можно больше объектов положиельного класса и нежеланием обзванивать всех клиентов ( и платить все операторам)"
   ]
  },
  {
   "cell_type": "markdown",
   "metadata": {
    "id": "i7Ksl7b9P75m"
   },
   "source": [
    "Каковы значения precision и recall на выбранном пороге? Оцените по кросс-валидации. Также вычислите стандартное отклонение."
   ]
  },
  {
   "cell_type": "code",
   "execution_count": 203,
   "metadata": {
    "id": "i0fwjmYGP75n"
   },
   "outputs": [],
   "source": [
    "border = 0.14\n",
    "edge = 0.14\n",
    "recall_edge_cv = []\n",
    "precision_cv_edge = []\n",
    "X_cv = column_transformer.fit_transform(X)\n",
    "\n",
    "for train_index, test_index in skf.split(X, y):\n",
    "    X_train, X_test = X.loc[train_index], X.loc[test_index]\n",
    "    y_train, y_test = y[train_index], y[test_index]\n",
    "\n",
    "    X_train = column_transformer.fit_transform(X_train)\n",
    "    X_test = column_transformer.transform(X_test)\n",
    "\n",
    "    logreg = LogisticRegression(C=logreg_best_C, max_iter=100000, random_state=42).fit(X_train, y_train)\n",
    "    probs = logreg.predict_proba(X_test)[:, 1]\n",
    "    preds = np.array([1 if i > edge else 0 for i in probs])\n",
    "\n",
    "    score = profit_maximization(y_test, preds)\n",
    "    precision = precision_score(y_test, preds)\n",
    "    recall = recall_score(y_test, preds)\n",
    "\n",
    "    precision_cv_edge.append(precision)\n",
    "    recall_edge_cv.append(recall)"
   ]
  },
  {
   "cell_type": "code",
   "execution_count": 207,
   "metadata": {},
   "outputs": [
    {
     "name": "stdout",
     "output_type": "stream",
     "text": [
      "Пороговое значение 0.14\n",
      "Среднее значение precision 0.34402090064725327\n",
      "Стандартное отклонение precision 0.006187413123797701\n",
      "Среднее значение recall 0.6288793103448276\n",
      "Стандартное отклонение recall 0.025533108999344634\n"
     ]
    }
   ],
   "source": [
    "mean_precision_edge = np.mean(np.array(precision_cv_edge))\n",
    "mean_recall_edge = np.mean(np.array(recall_edge_cv))\n",
    "\n",
    "std_precision_edge = np.std(np.array(precision_cv_edge))\n",
    "std_recall_edge  = np.std(np.array(recall_edge_cv))\n",
    "\n",
    "print(\"Пороговое значение\", edge)\n",
    "print(\"Среднее значение precision\", mean_precision_edge)\n",
    "print(\"Стандартное отклонение precision\", std_precision_edge)\n",
    "\n",
    "print(\"Среднее значение recall\", mean_recall_edge)\n",
    "print(\"Стандартное отклонение recall\", std_recall_edge)\n"
   ]
  },
  {
   "cell_type": "markdown",
   "metadata": {
    "id": "H4xmz6caP75n"
   },
   "source": [
    "Можно пронаблюдать, что наша модель склоняется к более высокому recall. Попробуйте оценить качество модели с помощью `PR-AUC` в зоне recall $\\geq$ 0.5. Сделайте это следующим образом:\n",
    "- выберите только те пороги, на которых достигается необходимый recall,\n",
    "- затем интерпретируйте отсеченный в единичном квадрате прямоугольник как новый единичный квадрат,\n",
    "- посчитайте площадь под отсеченной кривой"
   ]
  },
  {
   "cell_type": "code",
   "execution_count": 144,
   "metadata": {
    "id": "lbYWnxfgP75n"
   },
   "outputs": [],
   "source": [
    "X_train, X_test, y_train, y_test = train_test_split(X, y, test_size=0.3, random_state=42)\n",
    "\n",
    "X_train = column_transformer.fit_transform(X_train)\n",
    "X_test = column_transformer.transform(X_test)"
   ]
  },
  {
   "cell_type": "code",
   "execution_count": 145,
   "metadata": {},
   "outputs": [],
   "source": [
    "logreg= LogisticRegression(C=logreg_best_C, max_iter=100000, random_state=40).fit(X_train, y_train)\n",
    "y_pred = logreg.predict_proba(X_test)[:, 1]"
   ]
  },
  {
   "cell_type": "code",
   "execution_count": 149,
   "metadata": {
    "scrolled": true
   },
   "outputs": [
    {
     "name": "stdout",
     "output_type": "stream",
     "text": [
      "AUC-PR: 0.43616\n"
     ]
    },
    {
     "data": {
      "image/png": "[encoded data removed]",
      "text/plain": [
       "<Figure size 720x576 with 1 Axes>"
      ]
     },
     "metadata": {
      "needs_background": "light"
     },
     "output_type": "display_data"
    }
   ],
   "source": [
    "print('AUC-PR:', round( auc(recall, precision), 5 ))\n",
    "fig, ax = plt.subplots(figsize=(10, 8))\n",
    "\n",
    "PrecisionRecallDisplay.from_predictions(y_test, y_pred, ax=ax)\n",
    "precision, recall, thresholds = precision_recall_curve(y_test, y_pred)\n",
    "\n",
    "plt.title(\"PRC\", fontsize=14, fontweight = 'bold');\n"
   ]
  },
  {
   "cell_type": "markdown",
   "metadata": {},
   "source": [
    "Площадь равна 0.43616. Помотрим на сокращенную прямую"
   ]
  },
  {
   "cell_type": "code",
   "execution_count": 150,
   "metadata": {},
   "outputs": [
    {
     "data": {
      "text/plain": [
       "0.12156996951151502"
      ]
     },
     "execution_count": 150,
     "metadata": {},
     "output_type": "execute_result"
    }
   ],
   "source": [
    "recall_cut = recall[recall >= 0.5]\n",
    "precision_cut = precision[recall >= 0.5]\n",
    "\n",
    "auc(recall_cut, precision_cut)"
   ]
  },
  {
   "cell_type": "code",
   "execution_count": 151,
   "metadata": {},
   "outputs": [],
   "source": [
    "from sklearn.preprocessing import MinMaxScaler\n",
    "\n",
    "MinMax = MinMaxScaler() "
   ]
  },
  {
   "cell_type": "markdown",
   "metadata": {},
   "source": [
    "Поиграемся с единичным квадратом"
   ]
  },
  {
   "cell_type": "code",
   "execution_count": 156,
   "metadata": {},
   "outputs": [
    {
     "name": "stdout",
     "output_type": "stream",
     "text": [
      "0.3986\n"
     ]
    }
   ],
   "source": [
    "MinMaxRecall = MinMax.fit_transform(recall_cut.reshape(-1, 1))\n",
    "MinMaxPrecision = MinMax.fit_transform(precision_cut.reshape(-1, 1))\n",
    "print(round(auc(MinMaxRecall, MinMaxPrecision),4))"
   ]
  },
  {
   "cell_type": "markdown",
   "metadata": {},
   "source": [
    "AUC PR у единичного квадрата тоже почти равен 0.4"
   ]
  }
 ],
 "metadata": {
  "colab": {
   "collapsed_sections": [
    "xvhLtt4OP75Q",
    "RvWzOe4wP75T",
    "4VbJR0e3P75U"
   ],
   "provenance": []
  },
  "kernelspec": {
   "display_name": "Python 3 (ipykernel)",
   "language": "python",
   "name": "python3"
  },
  "language_info": {
   "codemirror_mode": {
    "name": "ipython",
    "version": 3
   },
   "file_extension": ".py",
   "mimetype": "text/x-python",
   "name": "python",
   "nbconvert_exporter": "python",
   "pygments_lexer": "ipython3",
   "version": "3.11.5"
  }
 },
 "nbformat": 4,
 "nbformat_minor": 1
}
